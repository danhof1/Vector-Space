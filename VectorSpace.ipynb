{
  "nbformat": 4,
  "nbformat_minor": 0,
  "metadata": {
    "colab": {
      "provenance": []
    },
    "kernelspec": {
      "name": "python3",
      "display_name": "Python 3"
    },
    "language_info": {
      "name": "python"
    }
  },
  "cells": [
    {
      "cell_type": "code",
      "source": [
        "import nltk\n",
        "nltk.download('inaugural')\n",
        "nltk.download('punkt')\n",
        "from nltk import word_tokenize\n",
        "from nltk.corpus import inaugural"
      ],
      "metadata": {
        "colab": {
          "base_uri": "https://localhost:8080/"
        },
        "id": "WdIPkTI6dKTU",
        "outputId": "e0ffbfca-67e2-4d3d-e6d9-46e481e0cc03"
      },
      "execution_count": 102,
      "outputs": [
        {
          "output_type": "stream",
          "name": "stderr",
          "text": [
            "[nltk_data] Downloading package inaugural to /root/nltk_data...\n",
            "[nltk_data]   Package inaugural is already up-to-date!\n",
            "[nltk_data] Downloading package punkt to /root/nltk_data...\n",
            "[nltk_data]   Package punkt is already up-to-date!\n"
          ]
        }
      ]
    },
    {
      "cell_type": "markdown",
      "source": [
        "#Pre-Processing"
      ],
      "metadata": {
        "id": "G2rOJW5OdQ9v"
      }
    },
    {
      "cell_type": "markdown",
      "source": [
        "## Get Text"
      ],
      "metadata": {
        "id": "I6SUsQaodY1s"
      }
    },
    {
      "cell_type": "code",
      "source": [
        "# list names inaugural addresses\n",
        "list_fnames = inaugural.fileids()\n",
        "# methods inaugural object\n",
        "print(dir(inaugural))\n",
        "print(list_fnames)"
      ],
      "metadata": {
        "colab": {
          "base_uri": "https://localhost:8080/"
        },
        "id": "XyrUKuCYdUOO",
        "outputId": "2acb6ed8-2d24-49e3-f018-600be0b007b2"
      },
      "execution_count": 103,
      "outputs": [
        {
          "output_type": "stream",
          "name": "stdout",
          "text": [
            "['CorpusView', '__class__', '__delattr__', '__dict__', '__dir__', '__doc__', '__eq__', '__format__', '__ge__', '__getattribute__', '__gt__', '__hash__', '__init__', '__init_subclass__', '__le__', '__lt__', '__module__', '__ne__', '__new__', '__reduce__', '__reduce_ex__', '__repr__', '__setattr__', '__sizeof__', '__str__', '__subclasshook__', '__weakref__', '_citation', '_encoding', '_fileids', '_get_root', '_license', '_para_block_reader', '_read_para_block', '_read_sent_block', '_read_word_block', '_readme', '_root', '_sent_tokenizer', '_tagset', '_unload', '_word_tokenizer', 'abspath', 'abspaths', 'citation', 'encoding', 'ensure_loaded', 'fileids', 'license', 'open', 'paras', 'raw', 'readme', 'root', 'sents', 'words']\n",
            "['1789-Washington.txt', '1793-Washington.txt', '1797-Adams.txt', '1801-Jefferson.txt', '1805-Jefferson.txt', '1809-Madison.txt', '1813-Madison.txt', '1817-Monroe.txt', '1821-Monroe.txt', '1825-Adams.txt', '1829-Jackson.txt', '1833-Jackson.txt', '1837-VanBuren.txt', '1841-Harrison.txt', '1845-Polk.txt', '1849-Taylor.txt', '1853-Pierce.txt', '1857-Buchanan.txt', '1861-Lincoln.txt', '1865-Lincoln.txt', '1869-Grant.txt', '1873-Grant.txt', '1877-Hayes.txt', '1881-Garfield.txt', '1885-Cleveland.txt', '1889-Harrison.txt', '1893-Cleveland.txt', '1897-McKinley.txt', '1901-McKinley.txt', '1905-Roosevelt.txt', '1909-Taft.txt', '1913-Wilson.txt', '1917-Wilson.txt', '1921-Harding.txt', '1925-Coolidge.txt', '1929-Hoover.txt', '1933-Roosevelt.txt', '1937-Roosevelt.txt', '1941-Roosevelt.txt', '1945-Roosevelt.txt', '1949-Truman.txt', '1953-Eisenhower.txt', '1957-Eisenhower.txt', '1961-Kennedy.txt', '1965-Johnson.txt', '1969-Nixon.txt', '1973-Nixon.txt', '1977-Carter.txt', '1981-Reagan.txt', '1985-Reagan.txt', '1989-Bush.txt', '1993-Clinton.txt', '1997-Clinton.txt', '2001-Bush.txt', '2005-Bush.txt', '2009-Obama.txt', '2013-Obama.txt', '2017-Trump.txt', '2021-Biden.txt']\n"
          ]
        }
      ]
    },
    {
      "cell_type": "code",
      "source": [
        "list_docs = []    # list of raw text documents\n",
        "for fid in list_fnames:\n",
        "    list_docs.append(inaugural.raw(fid))\n",
        "\n",
        "print(len(list_docs))\n",
        "\n",
        "#print(name_doc)\n",
        "#print(list_docs[0])"
      ],
      "metadata": {
        "colab": {
          "base_uri": "https://localhost:8080/"
        },
        "id": "xiPQopgpeSIf",
        "outputId": "d19f1449-d713-4503-929d-c981635ebd37"
      },
      "execution_count": 104,
      "outputs": [
        {
          "output_type": "stream",
          "name": "stdout",
          "text": [
            "59\n"
          ]
        }
      ]
    },
    {
      "cell_type": "code",
      "source": [
        "# access the words\n",
        "# Print the first 100 words\n",
        "print(inaugural.words('1789-Washington.txt')[:20])\n",
        " # replace words with paras - get paragraphs"
      ],
      "metadata": {
        "colab": {
          "base_uri": "https://localhost:8080/"
        },
        "id": "C_AoBZuPeVcy",
        "outputId": "2fc5918d-6bb1-46f7-a88b-3ffe39fe9b07"
      },
      "execution_count": 105,
      "outputs": [
        {
          "output_type": "stream",
          "name": "stdout",
          "text": [
            "['Fellow', '-', 'Citizens', 'of', 'the', 'Senate', 'and', 'of', 'the', 'House', 'of', 'Representatives', ':', 'Among', 'the', 'vicissitudes', 'incident', 'to', 'life', 'no']\n"
          ]
        }
      ]
    },
    {
      "cell_type": "code",
      "source": [
        "from sklearn.feature_extraction.text import CountVectorizer # extract words and count words in each text\n",
        "from sklearn.feature_extraction.text import TfidfTransformer\n",
        "from collections import Counter\n",
        "\n",
        "import spacy   # another tokenizer, lemmatizer (has --> be)\n",
        "nlp = spacy.load('en_core_web_sm')"
      ],
      "metadata": {
        "id": "k1W4v27VeXQ8"
      },
      "execution_count": 106,
      "outputs": []
    },
    {
      "cell_type": "markdown",
      "source": [
        "#1. Build the inverted index as shown in indexing.ipynb (class repository). Use spacy and the ner processing to add names, locations, organizations that span more than one word as terms to your vocabulary (look at the sample code in demo_spacy.ipynb)."
      ],
      "metadata": {
        "id": "N0lb3lL5dHxq"
      }
    },
    {
      "cell_type": "markdown",
      "source": [
        "##Pre-Process"
      ],
      "metadata": {
        "id": "9gCW-TzexW01"
      }
    },
    {
      "cell_type": "code",
      "source": [
        "import spacy\n",
        "from collections import Counter\n",
        "\n",
        "nlp = spacy.load(\"en_core_web_sm\")\n",
        "\n",
        "def preProcess(doc):  # text processing for one text\n",
        "    tokens = nlp(doc)\n",
        "\n",
        "    # eliminates stop words and non-alpha characters\n",
        "    terms = [token.lemma_.lower()\n",
        "             for token in tokens\n",
        "             if not token.is_stop and token.is_alpha]\n",
        "\n",
        "    ners = []\n",
        "    for ner in tokens.ents:\n",
        "        tokens_ner = nlp(ner.text)\n",
        "        if len(tokens_ner) > 1 and ner.label_ in [\"PERSON\", \"GPE\", \"ORG\", \"FAC\"]:\n",
        "            # remove stop words at the beginning\n",
        "            if tokens_ner[0].is_stop:\n",
        "                ner_text = ' '.join([t.text for t in tokens_ner[1:]])\n",
        "            else:\n",
        "                ner_text = ner.text\n",
        "            ners.append(ner_text.lower())\n",
        "\n",
        "    # Extend terms with ners (this makes it a flat list)\n",
        "    terms.extend(ners)\n",
        "\n",
        "    return terms  # returning the flat list directly\n",
        "\n",
        "all_terms  = []\n",
        "for doc in list_docs:\n",
        "  terms_spacy = preProcess(doc)\n",
        "  all_terms.extend(terms_spacy) # contains all words in the collection in one list\n",
        "  #all_tokens.append(tokens_spacy) # contains all spacy tokens in each document, as a list of size num documents\n"
      ],
      "metadata": {
        "id": "SK24YMVaxVyt"
      },
      "execution_count": 107,
      "outputs": []
    },
    {
      "cell_type": "code",
      "source": [
        "# Extract terms (unique) and document frequency (count tokens)\n",
        "# all_tokens list of tuples (token, doc_id)\n",
        "def doc_freq(all_tokens):\n",
        "    dict_doc_freq = {}\n",
        "\n",
        "    tokens_by_doc = {} # set that stores unique tokens per document\n",
        "\n",
        "    for (token, doc) in all_tokens: # iterates through all (token, doc_id) tuples\n",
        "        if doc not in tokens_by_doc:\n",
        "            tokens_by_doc[doc] = set()  # initializes set for each document\n",
        "        tokens_by_doc[doc].add(token)  # adds unique token to the set for that document\n",
        "\n",
        "    for doc, tokens in tokens_by_doc.items(): # calculates document frequency for each unique token\n",
        "        for token in tokens:\n",
        "            if token in dict_doc_freq:\n",
        "                dict_doc_freq[token] += 1\n",
        "            else:\n",
        "                dict_doc_freq[token] = 1\n",
        "\n",
        "    tuples_doc_freq = sorted(dict_doc_freq.items(), key=lambda x: x[0]) # sorts by key (term)\n",
        "\n",
        "    return dict(tuples_doc_freq)"
      ],
      "metadata": {
        "id": "JbSyQdhy4Wv3"
      },
      "execution_count": 108,
      "outputs": []
    },
    {
      "cell_type": "code",
      "source": [
        "# Extract term frequency of each term in each document it appears in\n",
        "# dict_term_freq = {term: {doc1:tf1, doc2:tf2, ...}} # includes only docs that have\n",
        "# non-zero term frequency\n",
        "def term_freq(all_tokens, dict_doc_freq):\n",
        "  dict_term_freq = {term:{} for term in dict_doc_freq.keys()} # initialize dictionary with all unique terms\n",
        "  for (token, doc) in set(all_tokens): # converted to set to avoid duplicates of terms in documents\n",
        "    if doc in dict_term_freq[token]:\n",
        "      dict_term_freq[token][doc] += 1\n",
        "    else: # if doc is not a key in the dictionary\n",
        "      dict_term_freq[token][doc] = 1\n",
        "\n",
        "  return dict_term_freq"
      ],
      "metadata": {
        "id": "qBP4C_pw4oWr"
      },
      "execution_count": 109,
      "outputs": []
    },
    {
      "cell_type": "code",
      "source": [
        "# extracts a list of (token, doc_id) from all documents\n",
        "# input: a list of documents\n",
        "# output: a list of sorted (token, doc_id) tuples\n",
        "def extract_token_doc_id(list_doc):\n",
        "  all_tokens = []\n",
        "  for ind_doc, doc in enumerate(list_doc):\n",
        "    tokens_doc = [(token, ind_doc) for token in preProcess(doc)]\n",
        "    all_tokens.extend(tokens_doc)\n",
        "\n",
        "  # sorts by token name\n",
        "  all_tokens = sorted(all_tokens, key = lambda x:x[0])\n",
        "\n",
        "  return all_tokens"
      ],
      "metadata": {
        "id": "OosGBHov5KrG"
      },
      "execution_count": 110,
      "outputs": []
    },
    {
      "cell_type": "code",
      "source": [
        "all_tokens = extract_token_doc_id(list_docs) # extract a list of tuples (token, doc id), sorted alphabetically\n",
        "dict_doc_freq = doc_freq(all_tokens)\n",
        "dict_term_freq = term_freq(all_tokens, dict_doc_freq) # extracts document frequency"
      ],
      "metadata": {
        "id": "DHKOO5_f4VVN"
      },
      "execution_count": 111,
      "outputs": []
    },
    {
      "cell_type": "code",
      "source": [
        "#ner_freq_collec = Counter(all_ners)\n",
        "#sorted(ner_freq_collec)\n",
        "term_freq_collec = Counter(all_terms)\n",
        "sorted(term_freq_collec)"
      ],
      "metadata": {
        "id": "7W41Yho3fkgF",
        "colab": {
          "base_uri": "https://localhost:8080/"
        },
        "outputId": "4a1afd69-22e7-4d50-dd1a-01fb84e92efd"
      },
      "execution_count": 112,
      "outputs": [
        {
          "output_type": "execute_result",
          "data": {
            "text/plain": [
              "['abandon',\n",
              " 'abandonment',\n",
              " 'abate',\n",
              " 'abdicate',\n",
              " 'abeyance',\n",
              " 'abhorring',\n",
              " 'abide',\n",
              " 'ability',\n",
              " 'abject',\n",
              " 'able',\n",
              " 'ably',\n",
              " 'abnormal',\n",
              " 'abode',\n",
              " 'abolish',\n",
              " 'aboriginal',\n",
              " 'aborigine',\n",
              " 'abound',\n",
              " 'abraham',\n",
              " 'abraham lincoln',\n",
              " 'abreast',\n",
              " 'abridge',\n",
              " 'abroad',\n",
              " 'absence',\n",
              " 'absent',\n",
              " 'absolute',\n",
              " 'absolutely',\n",
              " 'absolutism',\n",
              " 'absorb',\n",
              " 'abstain',\n",
              " 'abstract',\n",
              " 'abstraction',\n",
              " 'absurd',\n",
              " 'abundance',\n",
              " 'abundant',\n",
              " 'abundantly',\n",
              " 'abuse',\n",
              " 'academy',\n",
              " 'accept',\n",
              " 'acceptance',\n",
              " 'access',\n",
              " 'accessible',\n",
              " 'accession',\n",
              " 'accident',\n",
              " 'accidental',\n",
              " 'acclaim',\n",
              " 'accommodation',\n",
              " 'accompany',\n",
              " 'accomplish',\n",
              " 'accomplishment',\n",
              " 'accord',\n",
              " 'accordance',\n",
              " 'accordingly',\n",
              " 'account',\n",
              " 'accountability',\n",
              " 'accountable',\n",
              " 'accounting',\n",
              " 'accrue',\n",
              " 'accumulate',\n",
              " 'accumulation',\n",
              " 'accurately',\n",
              " 'accustom',\n",
              " 'achieve',\n",
              " 'achievement',\n",
              " 'acknowledge',\n",
              " 'acknowledgment',\n",
              " 'acquaint',\n",
              " 'acquaintance',\n",
              " 'acquiesce',\n",
              " 'acquiescence',\n",
              " 'acquire',\n",
              " 'acquisition',\n",
              " 'acquit',\n",
              " 'acrimony',\n",
              " 'act',\n",
              " 'action',\n",
              " 'active',\n",
              " 'actively',\n",
              " 'activism',\n",
              " 'activity',\n",
              " 'actual',\n",
              " 'actually',\n",
              " 'actuate',\n",
              " 'acute',\n",
              " 'adams',\n",
              " 'adams and a',\n",
              " 'adapt',\n",
              " 'add',\n",
              " 'addiction',\n",
              " 'addition',\n",
              " 'additional',\n",
              " 'address',\n",
              " 'adduce',\n",
              " 'adequate',\n",
              " 'adequately',\n",
              " 'adhere',\n",
              " 'adherence',\n",
              " 'adjective',\n",
              " 'adjunct',\n",
              " 'adjust',\n",
              " 'adjustment',\n",
              " 'administer',\n",
              " 'administered',\n",
              " 'administrate',\n",
              " 'administration',\n",
              " 'administrative',\n",
              " 'administrator',\n",
              " 'admirable',\n",
              " 'admirably',\n",
              " 'admiration',\n",
              " 'admission',\n",
              " 'admit',\n",
              " 'admonish',\n",
              " 'admonition',\n",
              " 'adopt',\n",
              " 'adoption',\n",
              " 'adore',\n",
              " 'adorn',\n",
              " 'advance',\n",
              " 'advanced',\n",
              " 'advancement',\n",
              " 'advantage',\n",
              " 'advantageous',\n",
              " 'advantageously',\n",
              " 'adventure',\n",
              " 'adventurer',\n",
              " 'adventurously',\n",
              " 'adversary',\n",
              " 'adverse',\n",
              " 'advert',\n",
              " 'advice',\n",
              " 'advisable',\n",
              " 'advise',\n",
              " 'adviser',\n",
              " 'advisory',\n",
              " 'advocacy',\n",
              " 'advocate',\n",
              " 'aegis',\n",
              " 'affair',\n",
              " 'affect',\n",
              " 'affected',\n",
              " 'affection',\n",
              " 'affectionate',\n",
              " 'affiliation',\n",
              " 'affirm',\n",
              " 'affirmation',\n",
              " 'afflict',\n",
              " 'affliction',\n",
              " 'afford',\n",
              " 'affording',\n",
              " 'affords',\n",
              " 'afghanistan',\n",
              " 'afield',\n",
              " 'afloat',\n",
              " 'afraid',\n",
              " 'afresh',\n",
              " 'africa',\n",
              " 'african',\n",
              " 'afte',\n",
              " 'aftermath',\n",
              " 'age',\n",
              " 'aged',\n",
              " 'agency',\n",
              " 'agent',\n",
              " 'aggrandizement',\n",
              " 'aggravate',\n",
              " 'aggravation',\n",
              " 'aggregate',\n",
              " 'aggregation',\n",
              " 'aggression',\n",
              " 'aggressive',\n",
              " 'aggressor',\n",
              " 'agitate',\n",
              " 'agitated',\n",
              " 'agitation',\n",
              " 'ago',\n",
              " 'agonizing',\n",
              " 'agony',\n",
              " 'agree',\n",
              " 'agreeably',\n",
              " 'agreement',\n",
              " 'agricultural',\n",
              " 'agriculture',\n",
              " 'agriculturist',\n",
              " 'ahead',\n",
              " 'aid',\n",
              " 'aids',\n",
              " 'aim',\n",
              " 'air',\n",
              " 'airport',\n",
              " 'alacrity',\n",
              " 'alamo',\n",
              " 'alarm',\n",
              " 'alert',\n",
              " 'alien',\n",
              " 'alienate',\n",
              " 'alienation',\n",
              " 'alike',\n",
              " 'aliment',\n",
              " 'alive',\n",
              " 'allay',\n",
              " 'allegation',\n",
              " 'allege',\n",
              " 'alleghanies',\n",
              " 'allegiance',\n",
              " 'alleviate',\n",
              " 'alliance',\n",
              " 'allocate',\n",
              " 'allot',\n",
              " 'allow',\n",
              " 'allude',\n",
              " 'allure',\n",
              " 'alluring',\n",
              " 'allusion',\n",
              " 'ally',\n",
              " 'almighty',\n",
              " 'alongside',\n",
              " 'aloof',\n",
              " 'aloofness',\n",
              " 'altar',\n",
              " 'alter',\n",
              " 'alteration',\n",
              " 'altercation',\n",
              " 'altered',\n",
              " 'alternative',\n",
              " 'altogether',\n",
              " 'amalgamate',\n",
              " 'amass',\n",
              " 'ambassador',\n",
              " 'ambiguity',\n",
              " 'ambition',\n",
              " 'ambitious',\n",
              " 'ambush',\n",
              " 'amelia',\n",
              " 'amelia island',\n",
              " 'amen',\n",
              " 'amend',\n",
              " 'amendatory',\n",
              " 'amendment',\n",
              " 'america',\n",
              " 'american',\n",
              " 'american century',\n",
              " 'american navy',\n",
              " 'american states',\n",
              " 'american wayâ\\x80\\x94restless',\n",
              " 'americanism',\n",
              " 'americans',\n",
              " 'americas',\n",
              " 'america¡¦',\n",
              " 'amiable',\n",
              " 'amicable',\n",
              " 'amicably',\n",
              " 'amid',\n",
              " 'amidst',\n",
              " 'amity',\n",
              " 'amnesty',\n",
              " 'amount',\n",
              " 'ample',\n",
              " 'amply',\n",
              " 'anarchy',\n",
              " 'ancestor',\n",
              " 'anchor',\n",
              " 'ancient',\n",
              " 'andes',\n",
              " 'anew',\n",
              " 'angel',\n",
              " 'anger',\n",
              " 'angry',\n",
              " 'anguish',\n",
              " 'anguished',\n",
              " 'animate',\n",
              " 'animating',\n",
              " 'animation',\n",
              " 'animosity',\n",
              " 'annal',\n",
              " 'annex',\n",
              " 'annexation',\n",
              " 'annihilate',\n",
              " 'annihilation',\n",
              " 'anniversary',\n",
              " 'announce',\n",
              " 'annoyance',\n",
              " 'annual',\n",
              " 'annually',\n",
              " 'annul',\n",
              " 'answer',\n",
              " 'answerable',\n",
              " 'ant',\n",
              " 'antagonist',\n",
              " 'antagonistic',\n",
              " 'anthem',\n",
              " 'anthony',\n",
              " 'anticipate',\n",
              " 'anticipated',\n",
              " 'anticipation',\n",
              " 'antifederal',\n",
              " 'antipathy',\n",
              " 'antiphilosophist',\n",
              " 'antiquity',\n",
              " 'antirepublican',\n",
              " 'antitrust',\n",
              " 'anxiety',\n",
              " 'anxious',\n",
              " 'anxiously',\n",
              " 'anybody',\n",
              " 'anymore',\n",
              " 'apart',\n",
              " 'apathy',\n",
              " 'apollo',\n",
              " 'apologize',\n",
              " 'apology',\n",
              " 'appal',\n",
              " 'appalachia',\n",
              " 'appalling',\n",
              " 'apparent',\n",
              " 'apparently',\n",
              " 'appeal',\n",
              " 'appear',\n",
              " 'appearance',\n",
              " 'appeasement',\n",
              " 'appertain',\n",
              " 'applaud',\n",
              " 'applicable',\n",
              " 'applicant',\n",
              " 'application',\n",
              " 'apply',\n",
              " 'appoint',\n",
              " 'appointee',\n",
              " 'appointment',\n",
              " 'appraisal',\n",
              " 'appraise',\n",
              " 'appreciate',\n",
              " 'appreciation',\n",
              " 'appreciative',\n",
              " 'apprehend',\n",
              " 'apprehension',\n",
              " 'apprehensive',\n",
              " 'apprise',\n",
              " 'approach',\n",
              " 'approbation',\n",
              " 'appropriate',\n",
              " 'appropriately',\n",
              " 'appropriateness',\n",
              " 'appropriation',\n",
              " 'approval',\n",
              " 'approve',\n",
              " 'approximate',\n",
              " 'april',\n",
              " 'apt',\n",
              " 'aqueduct',\n",
              " 'arbitrament',\n",
              " 'arbitrarily',\n",
              " 'arbitrary',\n",
              " 'arbitration',\n",
              " 'archibald',\n",
              " 'archibald macleish',\n",
              " 'archipelago',\n",
              " 'architect',\n",
              " 'ardent',\n",
              " 'ardor',\n",
              " 'arduous',\n",
              " 'area',\n",
              " 'argonne',\n",
              " 'argue',\n",
              " 'argument',\n",
              " 'arid',\n",
              " 'aright',\n",
              " 'arise',\n",
              " 'aristocracy',\n",
              " 'ark',\n",
              " 'arlington',\n",
              " 'arlington cemetery',\n",
              " 'arlington national cemetery',\n",
              " 'arm',\n",
              " 'armament',\n",
              " 'armed',\n",
              " 'armies',\n",
              " 'army',\n",
              " 'arouse',\n",
              " 'arraignment',\n",
              " 'arrange',\n",
              " 'arrangement',\n",
              " 'array',\n",
              " 'arrest',\n",
              " 'arrive',\n",
              " 'arrogance',\n",
              " 'arrogate',\n",
              " 'arsenal',\n",
              " 'art',\n",
              " 'article',\n",
              " 'articles',\n",
              " 'articles of association',\n",
              " 'articles of confederation',\n",
              " 'articles of confederation and perpetual union',\n",
              " 'articulate',\n",
              " 'artifice',\n",
              " 'artificial',\n",
              " 'artificially',\n",
              " 'artillery',\n",
              " 'artisan',\n",
              " 'artist',\n",
              " 'ascend',\n",
              " 'ascendancy',\n",
              " 'ascendency',\n",
              " 'ascertain',\n",
              " 'ascribe',\n",
              " 'ashamed',\n",
              " 'asia',\n",
              " 'asiatic',\n",
              " 'aside',\n",
              " 'ask',\n",
              " 'asleep',\n",
              " 'aspect',\n",
              " 'aspiration',\n",
              " 'aspire',\n",
              " 'assail',\n",
              " 'assault',\n",
              " 'assemblage',\n",
              " 'assemble',\n",
              " 'assembled',\n",
              " 'assembly',\n",
              " 'assent',\n",
              " 'assert',\n",
              " 'assertion',\n",
              " 'assess',\n",
              " 'assign',\n",
              " 'assignment',\n",
              " 'assist',\n",
              " 'assistance',\n",
              " 'associate',\n",
              " 'associated',\n",
              " 'association',\n",
              " 'assuage',\n",
              " 'assume',\n",
              " 'assumption',\n",
              " 'assurance',\n",
              " 'assure',\n",
              " 'assured',\n",
              " 'assuredly',\n",
              " 'astonishing',\n",
              " 'astounding',\n",
              " 'astray',\n",
              " 'astronaut',\n",
              " 'asunder',\n",
              " 'asylum',\n",
              " 'athens',\n",
              " 'atlantic',\n",
              " 'atlantic states',\n",
              " 'atmosphere',\n",
              " 'atom',\n",
              " 'atone',\n",
              " 'atrocious',\n",
              " 'atrocity',\n",
              " 'attach',\n",
              " 'attachment',\n",
              " 'attack',\n",
              " 'attain',\n",
              " 'attainment',\n",
              " 'attempt',\n",
              " 'attend',\n",
              " 'attendant',\n",
              " 'attention',\n",
              " 'attentive',\n",
              " 'attest',\n",
              " 'attitude',\n",
              " 'attorney',\n",
              " 'attractive',\n",
              " 'attributable',\n",
              " 'attribute',\n",
              " 'audacity',\n",
              " 'audience',\n",
              " 'aught',\n",
              " 'augment',\n",
              " 'augmentation',\n",
              " 'augmented',\n",
              " 'augur',\n",
              " 'august',\n",
              " 'augustine',\n",
              " 'auspex',\n",
              " 'auspicious',\n",
              " 'auspiciously',\n",
              " 'author',\n",
              " 'author of liberty',\n",
              " 'authoritative',\n",
              " 'authority',\n",
              " 'authorize',\n",
              " 'autocracy',\n",
              " 'autocratic',\n",
              " 'autonomy',\n",
              " 'auxiliary',\n",
              " 'avail',\n",
              " 'availability',\n",
              " 'available',\n",
              " 'avenue',\n",
              " 'aver',\n",
              " 'avert',\n",
              " 'avoid',\n",
              " 'avoidance',\n",
              " 'avow',\n",
              " 'avowal',\n",
              " 'await',\n",
              " 'awake',\n",
              " 'awaken',\n",
              " 'awakened',\n",
              " 'award',\n",
              " 'aware',\n",
              " 'away',\n",
              " 'awesome',\n",
              " 'awful',\n",
              " 'ax',\n",
              " 'back',\n",
              " 'background',\n",
              " 'backward',\n",
              " 'bacteria',\n",
              " 'bad',\n",
              " 'badge',\n",
              " 'badly',\n",
              " 'baffle',\n",
              " 'baggage',\n",
              " 'baker',\n",
              " 'balance',\n",
              " 'balanced',\n",
              " 'balk',\n",
              " 'ballot',\n",
              " 'balm',\n",
              " 'baltimore',\n",
              " 'band',\n",
              " 'bane',\n",
              " 'baneful',\n",
              " 'banish',\n",
              " 'banished',\n",
              " 'banishment',\n",
              " 'bank',\n",
              " 'banking',\n",
              " 'bankrupt',\n",
              " 'banner',\n",
              " 'baptism',\n",
              " 'bar',\n",
              " 'barbarian',\n",
              " 'barbarism',\n",
              " 'barbary',\n",
              " 'barbary powers',\n",
              " 'barber',\n",
              " 'bare',\n",
              " 'barely',\n",
              " 'bargain',\n",
              " 'barrier',\n",
              " 'barter',\n",
              " 'base',\n",
              " 'basi',\n",
              " 'basic',\n",
              " 'basis',\n",
              " 'bastion',\n",
              " 'batavian',\n",
              " 'battalion',\n",
              " 'battle',\n",
              " 'battlefield',\n",
              " 'bay',\n",
              " 'beach',\n",
              " 'beachhead',\n",
              " 'beacon',\n",
              " 'bear',\n",
              " 'bearing',\n",
              " 'beat',\n",
              " 'beautiful',\n",
              " 'beauty',\n",
              " 'beckon',\n",
              " 'becloud',\n",
              " 'bed',\n",
              " 'bedrock',\n",
              " 'bee',\n",
              " 'befit',\n",
              " 'beg',\n",
              " 'beget',\n",
              " 'begin',\n",
              " 'beginning',\n",
              " 'behalf',\n",
              " 'behave',\n",
              " 'behold',\n",
              " 'behoove',\n",
              " 'belabor',\n",
              " 'belie',\n",
              " 'belief',\n",
              " 'believe',\n",
              " 'believer',\n",
              " 'bell',\n",
              " 'belleau',\n",
              " 'belleau wood',\n",
              " 'belligerent',\n",
              " 'belong',\n",
              " 'beloved',\n",
              " 'bend',\n",
              " 'beneath',\n",
              " 'benediction',\n",
              " 'benefactor',\n",
              " 'beneficence',\n",
              " 'beneficent',\n",
              " 'beneficent creator',\n",
              " 'beneficial',\n",
              " 'benefit',\n",
              " 'benevolence',\n",
              " 'benevolent',\n",
              " 'benign',\n",
              " 'bequeath',\n",
              " 'bernardin',\n",
              " 'beseech',\n",
              " 'beseem',\n",
              " 'beset',\n",
              " 'bestow',\n",
              " 'bestowal',\n",
              " 'betray',\n",
              " 'better',\n",
              " 'beware',\n",
              " 'bewildered',\n",
              " 'bible',\n",
              " 'bicentennial',\n",
              " 'bicker',\n",
              " 'bickering',\n",
              " 'bid',\n",
              " 'biden',\n",
              " 'big',\n",
              " 'bigoted',\n",
              " 'bigotry',\n",
              " 'bill',\n",
              " 'billion',\n",
              " 'billow',\n",
              " 'bimetallism',\n",
              " 'bind',\n",
              " 'binding',\n",
              " 'biological',\n",
              " 'bipartisanship',\n",
              " 'birth',\n",
              " 'birthday',\n",
              " 'birthright',\n",
              " 'bitter',\n",
              " 'bitterness',\n",
              " 'black',\n",
              " 'blame',\n",
              " 'blast',\n",
              " 'blaze',\n",
              " 'bleak',\n",
              " 'bleakest',\n",
              " 'bleed',\n",
              " 'blend',\n",
              " 'bless',\n",
              " 'blessing',\n",
              " 'blight',\n",
              " 'blind',\n",
              " 'blindly',\n",
              " 'bloated',\n",
              " 'block',\n",
              " 'blood',\n",
              " 'bloodshed',\n",
              " 'bloody',\n",
              " 'blot',\n",
              " 'blotch',\n",
              " 'blow',\n",
              " 'blue',\n",
              " 'blueprint',\n",
              " 'board',\n",
              " 'board of engineers and naval commissioners',\n",
              " 'boast',\n",
              " 'boasted',\n",
              " 'boastfulness',\n",
              " 'boat',\n",
              " 'bodily',\n",
              " 'body',\n",
              " 'bold',\n",
              " 'boldly',\n",
              " 'boldness',\n",
              " 'bolivar',\n",
              " 'bombastic',\n",
              " 'bona',\n",
              " 'bond',\n",
              " 'bondage',\n",
              " 'bondsman',\n",
              " 'book',\n",
              " 'border',\n",
              " 'borrow',\n",
              " 'borrowing',\n",
              " 'bosom',\n",
              " 'boston',\n",
              " 'bottom',\n",
              " 'bound',\n",
              " 'boundary',\n",
              " 'boundless',\n",
              " 'bounteous',\n",
              " 'bountiful',\n",
              " 'bounty',\n",
              " 'bow',\n",
              " 'box',\n",
              " 'boy',\n",
              " 'boycott',\n",
              " 'branch',\n",
              " 'brave',\n",
              " 'bravely',\n",
              " 'bravery',\n",
              " 'breach',\n",
              " 'bread',\n",
              " 'break',\n",
              " 'breast',\n",
              " 'breath',\n",
              " 'breathe',\n",
              " 'breed',\n",
              " 'breeze',\n",
              " 'bridge',\n",
              " 'bridle',\n",
              " 'brief',\n",
              " 'briefly',\n",
              " 'bright',\n",
              " 'brighten',\n",
              " 'brightly',\n",
              " 'brilliant',\n",
              " 'bring',\n",
              " 'brink',\n",
              " 'britain',\n",
              " 'britannic',\n",
              " \"britannic majesty's\",\n",
              " 'british',\n",
              " 'british government',\n",
              " 'british house of commons',\n",
              " 'british isles',\n",
              " 'broad',\n",
              " 'broadcast',\n",
              " 'broaden',\n",
              " 'broadly',\n",
              " 'broil',\n",
              " 'broken',\n",
              " 'brood',\n",
              " 'brother',\n",
              " 'brotherhood',\n",
              " 'brotherly',\n",
              " 'brown',\n",
              " 'brutal',\n",
              " 'brutus',\n",
              " 'buccaneer',\n",
              " 'budapest',\n",
              " 'budget',\n",
              " 'build',\n",
              " 'builder',\n",
              " 'building',\n",
              " 'buildup',\n",
              " 'bulk',\n",
              " 'bulky',\n",
              " 'bully',\n",
              " 'bulwark',\n",
              " 'burden',\n",
              " 'burdensome',\n",
              " 'bureau',\n",
              " 'bureau of corporations',\n",
              " 'bureaus',\n",
              " 'burger',\n",
              " 'burma',\n",
              " 'burn',\n",
              " 'burthen',\n",
              " 'bush',\n",
              " 'business',\n",
              " 'busy',\n",
              " 'buy',\n",
              " 'buy american',\n",
              " 'bygone',\n",
              " 'cabby',\n",
              " 'cabinet',\n",
              " 'caesar',\n",
              " 'calamitous',\n",
              " 'calamity',\n",
              " 'calculate',\n",
              " 'calculation',\n",
              " 'calendar',\n",
              " 'california',\n",
              " 'call',\n",
              " 'calling',\n",
              " 'callous',\n",
              " 'calm',\n",
              " 'calmly',\n",
              " 'calmness',\n",
              " 'calvin',\n",
              " 'calvin coolidge',\n",
              " 'camillus',\n",
              " 'camp',\n",
              " 'campaign',\n",
              " 'campfire',\n",
              " 'canal',\n",
              " 'cancer',\n",
              " 'candid',\n",
              " 'candidacy',\n",
              " 'candidate',\n",
              " 'candidly',\n",
              " 'candle',\n",
              " 'candor',\n",
              " 'canton',\n",
              " 'canvass',\n",
              " 'cap',\n",
              " 'capability',\n",
              " 'capable',\n",
              " 'capacity',\n",
              " 'cape',\n",
              " 'capital',\n",
              " 'capital of the nation',\n",
              " 'capitalist',\n",
              " 'capitol',\n",
              " 'caprice',\n",
              " 'captive',\n",
              " 'capture',\n",
              " 'car',\n",
              " 'cardinal',\n",
              " 'cardinal bernardin',\n",
              " 'care',\n",
              " 'career',\n",
              " 'careful',\n",
              " 'carefully',\n",
              " 'careless',\n",
              " 'carelessly',\n",
              " 'cargo',\n",
              " 'caring',\n",
              " 'carnage',\n",
              " 'carolina',\n",
              " 'carrier',\n",
              " 'carry',\n",
              " 'carter',\n",
              " 'cascade',\n",
              " 'case',\n",
              " 'cash',\n",
              " 'cast',\n",
              " 'casual',\n",
              " 'casualty',\n",
              " 'catalogue',\n",
              " 'catastrophe',\n",
              " 'catch',\n",
              " 'cathedral',\n",
              " 'cattle',\n",
              " 'cause',\n",
              " 'caution',\n",
              " 'cautious',\n",
              " 'cease',\n",
              " 'ceaseless',\n",
              " 'cede',\n",
              " 'ceiling',\n",
              " 'celebrate',\n",
              " 'celebration',\n",
              " 'cement',\n",
              " 'cemetery',\n",
              " 'censorship',\n",
              " 'censure',\n",
              " 'census',\n",
              " 'centennial',\n",
              " 'center',\n",
              " 'central',\n",
              " 'century',\n",
              " 'cereal',\n",
              " 'ceremonial',\n",
              " 'ceremony',\n",
              " 'certain',\n",
              " 'certainly',\n",
              " 'certainty',\n",
              " 'chain',\n",
              " 'chair',\n",
              " 'chairman',\n",
              " 'chalice',\n",
              " 'challenge',\n",
              " 'challenging',\n",
              " 'chamber',\n",
              " 'chamber of congress',\n",
              " 'chance',\n",
              " 'change',\n",
              " 'changeless',\n",
              " 'changer',\n",
              " 'channel',\n",
              " 'chaos',\n",
              " 'chapter',\n",
              " 'character',\n",
              " 'characteristic',\n",
              " 'characterize',\n",
              " 'charge',\n",
              " 'chargeable',\n",
              " 'charity',\n",
              " 'chart',\n",
              " 'charta',\n",
              " 'charter',\n",
              " 'chase',\n",
              " 'chattel',\n",
              " 'cheap',\n",
              " 'cheapness',\n",
              " 'check',\n",
              " 'cheer',\n",
              " 'cheerful',\n",
              " 'cheerfully',\n",
              " 'cheerfulness',\n",
              " 'cheering',\n",
              " 'chemical',\n",
              " 'cheney',\n",
              " 'cherish',\n",
              " 'cherished',\n",
              " 'chest',\n",
              " 'chief',\n",
              " 'chief executive',\n",
              " 'chief justice',\n",
              " 'chiefly',\n",
              " 'child',\n",
              " 'childhood',\n",
              " 'childish',\n",
              " 'china',\n",
              " 'choice',\n",
              " 'choose',\n",
              " 'chop',\n",
              " 'chord',\n",
              " 'chorus',\n",
              " 'chosin',\n",
              " 'chosin reservoir',\n",
              " 'christian',\n",
              " 'christianity',\n",
              " 'christians',\n",
              " 'christmas',\n",
              " 'christs',\n",
              " 'church',\n",
              " 'churchill',\n",
              " 'cincinnati',\n",
              " 'circle',\n",
              " 'circulate',\n",
              " 'circulation',\n",
              " 'circumscribe',\n",
              " 'circumstance',\n",
              " 'citizen',\n",
              " 'citizenry',\n",
              " 'citizens',\n",
              " 'citizenship',\n",
              " 'city',\n",
              " 'civic',\n",
              " 'civil',\n",
              " 'civility',\n",
              " 'civilization',\n",
              " 'civilized',\n",
              " 'claim',\n",
              " 'clamor',\n",
              " 'clarification',\n",
              " 'clarify',\n",
              " 'clarity',\n",
              " 'class',\n",
              " 'classroom',\n",
              " 'clause',\n",
              " 'clay',\n",
              " 'cle',\n",
              " 'clean',\n",
              " 'cleanse',\n",
              " 'clear',\n",
              " 'clearcut',\n",
              " 'clearly',\n",
              " 'clearness',\n",
              " 'cleave',\n",
              " 'clergy',\n",
              " 'clerk',\n",
              " 'climate',\n",
              " 'climb',\n",
              " 'clime',\n",
              " 'clinching',\n",
              " 'cling',\n",
              " 'clinton',\n",
              " 'cloak',\n",
              " 'clock',\n",
              " 'clog',\n",
              " 'close',\n",
              " 'closed',\n",
              " 'closely',\n",
              " 'closeness',\n",
              " 'clothe',\n",
              " 'clothing',\n",
              " 'cloud',\n",
              " 'co',\n",
              " 'coal',\n",
              " 'coarse',\n",
              " 'coast',\n",
              " 'cocaine',\n",
              " 'code',\n",
              " 'coequal',\n",
              " 'coercion',\n",
              " 'coercive',\n",
              " 'coeval',\n",
              " 'coffer',\n",
              " 'coherence',\n",
              " 'coin',\n",
              " 'coinage',\n",
              " 'coincidence',\n",
              " 'cold',\n",
              " 'coleman',\n",
              " 'collaborator',\n",
              " 'collapse',\n",
              " 'colleague',\n",
              " 'collect',\n",
              " 'collection',\n",
              " 'collective',\n",
              " 'collectively',\n",
              " 'college',\n",
              " 'collision',\n",
              " 'colonel',\n",
              " 'colonial',\n",
              " 'colonist',\n",
              " 'colonization',\n",
              " 'colony',\n",
              " 'color',\n",
              " 'colorable',\n",
              " 'colored',\n",
              " ...]"
            ]
          },
          "metadata": {},
          "execution_count": 112
        }
      ]
    },
    {
      "cell_type": "code",
      "source": [
        "# compute the frequency of all terms in the collection\n",
        "term_freq_collec = Counter(all_terms)\n",
        "# how many terms there are in the collection\n",
        "print(\"Size of the collection vocabulary\", len(term_freq_collec))\n",
        "# length of the collection = sum length of all documents\n",
        "print(\"Length collection\", len(all_terms))"
      ],
      "metadata": {
        "colab": {
          "base_uri": "https://localhost:8080/"
        },
        "id": "VsxQidxtfpor",
        "outputId": "53e66129-0e2e-437f-bcd0-31238433b9eb"
      },
      "execution_count": 113,
      "outputs": [
        {
          "output_type": "stream",
          "name": "stdout",
          "text": [
            "Size of the collection vocabulary 6672\n",
            "Length collection 58643\n"
          ]
        }
      ]
    },
    {
      "cell_type": "code",
      "source": [
        "doc_tokenized = preProcess(inaugural.raw(list_fnames[-2:])) #inaugural.words(doc)\n",
        "print(doc_tokenized)"
      ],
      "metadata": {
        "colab": {
          "base_uri": "https://localhost:8080/"
        },
        "id": "EanHsBKlkSQF",
        "outputId": "b6b53631-7bb5-48c0-e7ca-cb76d567ae64"
      },
      "execution_count": 114,
      "outputs": [
        {
          "output_type": "stream",
          "name": "stdout",
          "text": [
            "['chief', 'justice', 'roberts', 'president', 'carter', 'president', 'clinton', 'president', 'bush', 'president', 'obama', 'fellow', 'americans', 'people', 'world', 'thank', 'citizen', 'america', 'join', 'great', 'national', 'effort', 'rebuild', 'country', 'restore', 'promise', 'people', 'determine', 'course', 'america', 'world', 'year', 'come', 'face', 'challenge', 'confront', 'hardship', 'job', 'year', 'gather', 'step', 'carry', 'orderly', 'peaceful', 'transfer', 'power', 'grateful', 'president', 'obama', 'lady', 'michelle', 'obama', 'gracious', 'aid', 'transition', 'magnificent', 'thank', 'today', 'ceremony', 'special', 'meaning', 'today', 'merely', 'transfer', 'power', 'administration', 'party', 'transfer', 'power', 'washington', 'dc', 'give', 'people', 'long', 'small', 'group', 'nation', 'capital', 'reap', 'reward', 'government', 'people', 'bear', 'cost', 'washington', 'flourish', 'people', 'share', 'wealth', 'politician', 'prosper', 'job', 'leave', 'factory', 'close', 'establishment', 'protect', 'citizen', 'country', 'victory', 'victory', 'triumph', 'triumph', 'celebrate', 'nation', 'capital', 'little', 'celebrate', 'struggle', 'family', 'land', 'change', 'start', 'right', 'right', 'moment', 'moment', 'belong', 'belong', 'gather', 'today', 'watch', 'america', 'day', 'celebration', 'united', 'states', 'america', 'country', 'truly', 'matter', 'party', 'control', 'government', 'government', 'control', 'people', 'january', 'remember', 'day', 'people', 'ruler', 'nation', 'forget', 'man', 'woman', 'country', 'forget', 'long', 'listen', 'come', 'ten', 'million', 'historic', 'movement', 'like', 'world', 'see', 'center', 'movement', 'crucial', 'conviction', 'nation', 'exist', 'serve', 'citizen', 'american', 'want', 'great', 'school', 'child', 'safe', 'neighborhood', 'family', 'good', 'job', 'reasonable', 'demand', 'righteous', 'people', 'righteous', 'public', 'citizen', 'different', 'reality', 'exist', 'mother', 'child', 'trap', 'poverty', 'inner', 'city', 'rust', 'factory', 'scatter', 'like', 'tombstone', 'landscape', 'nation', 'education', 'system', 'flush', 'cash', 'leave', 'young', 'beautiful', 'student', 'deprive', 'knowledge', 'crime', 'gang', 'drug', 'steal', 'life', 'rob', 'country', 'unrealized', 'potential', 'american', 'carnage', 'stop', 'right', 'stop', 'right', 'nation', 'pain', 'pain', 'dream', 'dream', 'success', 'success', 'share', 'heart', 'home', 'glorious', 'destiny', 'oath', 'office', 'today', 'oath', 'allegiance', 'americans', 'decade', 'enrich', 'foreign', 'industry', 'expense', 'american', 'industry', 'subsidize', 'army', 'country', 'allow', 'sad', 'depletion', 'military', 'defend', 'nation', 'border', 'refuse', 'defend', 'spend', 'trillion', 'trillion', 'dollar', 'overseas', 'america', 'infrastructure', 'fall', 'disrepair', 'decay', 'country', 'rich', 'wealth', 'strength', 'confidence', 'country', 'dissipate', 'horizon', 'factory', 'shutter', 'leave', 'shore', 'thought', 'million', 'million', 'american', 'worker', 'leave', 'wealth', 'middle', 'class', 'rip', 'home', 'redistribute', 'world', 'past', 'look', 'future', 'assemble', 'today', 'issue', 'new', 'decree', 'hear', 'city', 'foreign', 'capital', 'hall', 'power', 'day', 'forward', 'new', 'vision', 'govern', 'land', 'day', 'forward', 'go', 'america', 'america', 'decision', 'trade', 'taxis', 'immigration', 'foreign', 'affair', 'benefit', 'american', 'worker', 'american', 'family', 'protect', 'border', 'ravage', 'country', 'make', 'product', 'steal', 'company', 'destroy', 'job', 'protection', 'lead', 'great', 'prosperity', 'strength', 'fight', 'breath', 'body', 'let', 'america', 'start', 'win', 'win', 'like', 'bring', 'job', 'bring', 'border', 'bring', 'wealth', 'bring', 'dream', 'build', 'new', 'road', 'highway', 'bridge', 'airport', 'tunnel', 'railway', 'wonderful', 'nation', 'people', 'welfare', 'work', 'rebuild', 'country', 'american', 'hand', 'american', 'labor', 'follow', 'simple', 'rule', 'buy', 'american', 'hire', 'american', 'seek', 'friendship', 'good', 'nation', 'world', 'understanding', 'right', 'nation', 'interest', 'seek', 'impose', 'way', 'life', 'let', 'shine', 'follow', 'reinforce', 'old', 'alliance', 'form', 'new', 'one', 'unite', 'civilized', 'world', 'radical', 'islamic', 'terrorism', 'eradicate', 'completely', 'face', 'earth', 'bedrock', 'politic', 'total', 'allegiance', 'united', 'states', 'america', 'loyalty', 'country', 'rediscover', 'loyalty', 'open', 'heart', 'patriotism', 'room', 'prejudice', 'bible', 'tell', 'good', 'pleasant', 'god', 'people', 'live', 'unity', 'speak', 'mind', 'openly', 'debate', 'disagreement', 'honestly', 'pursue', 'solidarity', 'america', 'united', 'america', 'totally', 'unstoppable', 'fear', 'protect', 'protect', 'protect', 'great', 'man', 'woman', 'military', 'law', 'enforcement', 'importantly', 'protect', 'god', 'finally', 'think', 'big', 'dream', 'big', 'america', 'understand', 'nation', 'live', 'long', 'strive', 'long', 'accept', 'politician', 'talk', 'action', 'constantly', 'complain', 'time', 'talk', 'arrive', 'hour', 'action', 'allow', 'tell', 'challenge', 'match', 'heart', 'fight', 'spirit', 'america', 'fail', 'country', 'thrive', 'prosper', 'stand', 'birth', 'new', 'millennium', 'ready', 'unlock', 'mystery', 'space', 'free', 'earth', 'misery', 'disease', 'harness', 'energy', 'industry', 'technology', 'tomorrow', 'new', 'national', 'pride', 'stir', 'soul', 'lift', 'sight', 'heal', 'division', 'time', 'remember', 'old', 'wisdom', 'soldier', 'forget', 'black', 'brown', 'white', 'bleed', 'red', 'blood', 'patriot', 'enjoy', 'glorious', 'freedom', 'salute', 'great', 'american', 'flag', 'child', 'bear', 'urban', 'sprawl', 'detroit', 'windswept', 'plain', 'nebraska', 'look', 'night', 'sky', 'fill', 'heart', 'dream', 'infuse', 'breath', 'life', 'almighty', 'creator', 'americans', 'city', 'near', 'far', 'small', 'large', 'mountain', 'mountain', 'ocean', 'ocean', 'hear', 'word', 'ignore', 'voice', 'hope', 'dream', 'define', 'american', 'destiny', 'courage', 'goodness', 'love', 'forever', 'guide', 'way', 'america', 'strong', 'america', 'wealthy', 'america', 'proud', 'america', 'safe', 'yes', 'america', 'great', 'thank', 'god', 'bless', 'god', 'bless', 'america', 'thank', 'god', 'bless', 'america', 'chief', 'justice', 'roberts', 'vice', 'president', 'harris', 'speaker', 'pelosi', 'leader', 'schumer', 'leader', 'mcconnell', 'vice', 'president', 'pence', 'distinguished', 'guest', 'fellow', 'americans', 'america', 'day', 'democracy', 'day', 'day', 'history', 'hope', 'renewal', 'resolve', 'crucible', 'age', 'america', 'test', 'anew', 'america', 'rise', 'challenge', 'today', 'celebrate', 'triumph', 'candidate', 'cause', 'cause', 'democracy', 'people', 'hear', 'people', 'heed', 'learn', 'democracy', 'precious', 'democracy', 'fragile', 'hour', 'friend', 'democracy', 'prevail', 'hallowed', 'ground', 'day', 'ago', 'violence', 'seek', 'shake', 'capitol', 'foundation', 'come', 'nation', 'god', 'indivisible', 'carry', 'peaceful', 'transfer', 'power', 'century', 'look', 'ahead', 'uniquely', 'american', 'bold', 'set', 'sight', 'nation', 'know', 'thank', 'predecessor', 'party', 'presence', 'today', 'thank', 'heart', 'know', 'resilience', 'constitution', 'strength', 'strength', 'nation', 'president', 'carter', 'speak', 'night', 'today', 'salute', 'lifetime', 'service', 'take', 'sacred', 'oath', 'patriot', 'take', 'oath', 'swear', 'george', 'washington', 'american', 'story', 'depend', 'people', 'seek', 'perfect', 'union', 'great', 'nation', 'good', 'people', 'century', 'storm', 'strife', 'peace', 'war', 'come', 'far', 'far', 'press', 'forward', 'speed', 'urgency', 'winter', 'peril', 'significant', 'possibility', 'repair', 'restore', 'heal', 'build', 'gain', 'people', 'nation', 'history', 'challenge', 'find', 'time', 'challenging', 'difficult', 'time', 'century', 'virus', 'silently', 'stalk', 'country', 'take', 'life', 'year', 'america', 'lose', 'world', 'war', 'ii', 'million', 'job', 'lose', 'hundred', 'thousand', 'business', 'close', 'cry', 'racial', 'justice', 'year', 'making', 'move', 'dream', 'justice', 'defer', 'long', 'cry', 'survival', 'come', 'planet', 'cry', 'desperate', 'clear', 'rise', 'political', 'extremism', 'white', 'supremacy', 'domestic', 'terrorism', 'confront', 'defeat', 'overcome', 'restore', 'soul', 'secure', 'future', 'word', 'require', 'elusive', 'thing', 'democracy', 'unity', 'unity', 'january', 'new', 'year', 'day', 'abraham', 'lincoln', 'sign', 'emancipation', 'proclamation', 'pen', 'paper', 'president', 'say', 'quote', 'go', 'history', 'act', 'soul', 'soul', 'today', 'january', 'day', 'soul', 'bring', 'america', 'unite', 'people', 'unite', 'nation', 'ask', 'american', 'join', 'cause', 'unite', 'fight', 'foe', 'face', 'anger', 'resentment', 'hatred', 'extremism', 'lawlessness', 'violence', 'disease', 'joblessness', 'hopelessness', 'unity', 'great', 'thing', 'important', 'thing', 'right', 'wrong', 'people', 'work', 'good', 'job', 'teach', 'child', 'safe', 'school', 'overcome', 'deadly', 'virus', 'reward', 'work', 'rebuild', 'middle', 'class', 'health', 'care', 'secure', 'deliver', 'racial', 'justice', 'america', 'lead', 'force', 'good', 'world', 'know', 'speak', 'unity', 'sound', 'like', 'foolish', 'fantasy', 'day', 'know', 'force', 'divide', 'deep', 'real', 'know', 'new', 'history', 'constant', 'struggle', 'american', 'ideal', 'create', 'equal', 'harsh', 'ugly', 'reality', 'racism', 'nativism', 'fear', 'demonization', 'long', 'tear', 'apart', 'battle', 'perennial', 'victory', 'assure', 'civil', 'war', 'great', 'depression', 'world', 'war', 'struggle', 'sacrifice', 'setback', 'well', 'angel', 'prevail', 'moment', 'come', 'carry', 'forward', 'history', 'faith', 'reason', 'way', 'way', 'unity', 'adversary', 'neighbor', 'treat', 'dignity', 'respect', 'join', 'force', 'stop', 'shouting', 'lower', 'temperature', 'unity', 'peace', 'bitterness', 'fury', 'progress', 'exhausting', 'outrage', 'nation', 'state', 'chaos', 'historic', 'moment', 'crisis', 'challenge', 'unity', 'path', 'forward', 'meet', 'moment', 'united', 'states', 'america', 'guarantee', 'fail', 'fail', 'america', 'act', 'today', 'time', 'place', 'let', 'start', 'afresh', 'let', 'begin', 'listen', 'hear', 'respect', 'politic', 'rage', 'fire', 'destroy', 'path', 'disagreement', 'cause', 'total', 'war', 'reject', 'culture', 'fact', 'manipulate', 'manufacture', 'fellow', 'americans', 'different', 'america', 'well', 'believe', 'america', 'well', 'look', 'stand', 'shadow', 'capitol', 'dome', 'mention', 'early', 'complete', 'amid', 'civil', 'war', 'union', 'literally', 'hang', 'balance', 'endure', 'prevail', 'stand', 'look', 'great', 'mall', 'king', 'speak', 'dream', 'stand', 'year', 'ago', 'inaugural', 'thousand', 'protester', 'try', 'block', 'brave', 'woman', 'march', 'right', 'vote', 'today', 'mark', 'swearing', 'woman', 'american', 'history', 'elect', 'national', 'office', 'vice', 'president', 'kamala', 'harris', 'tell', 'thing', 'change', 'stand', 'potomac', 'arlington', 'cemetery', 'hero', 'give', 'measure', 'devotion', 'rest', 'eternal', 'peace', 'stand', 'day', 'riotous', 'mob', 'think', 'use', 'violence', 'silence', 'people', 'stop', 'work', 'democracy', 'drive', 'sacred', 'ground', 'happen', 'happen', 'today', 'tomorrow', 'support', 'campaign', 'humble', 'faith', 'place', 'support', 'let', 'hear', 'forward', 'measure', 'heart', 'disagree', 'democracy', 'america', 'right', 'dissent', 'peaceably', 'guardrail', 'republic', 'nation', 'great', 'strength', 'hear', 'clearly', 'disagreement', 'lead', 'disunion', 'pledge', 'president', 'americans', 'promise', 'fight', 'hard', 'support', 'century', 'ago', 'saint', 'augustine', 'saint', 'church', 'write', 'people', 'multitude', 'define', 'common', 'object', 'common', 'object', 'love', 'common', 'object', 'americans', 'love', 'define', 'americans', 'think', 'know', 'opportunity', 'security', 'liberty', 'dignity', 'respect', 'honor', 'yes', 'truth', 'recent', 'week', 'month', 'teach', 'painful', 'lesson', 'truth', 'lie', 'lie', 'tell', 'power', 'profit', 'duty', 'responsibility', 'citizen', 'americans', 'especially', 'pledge', 'honor', 'constitution', 'protect', 'defend', 'truth', 'defeat', 'lie', 'look', 'understand', 'fellow', 'americans', 'view', 'future', 'fear', 'trepidation', 'understand', 'worry', 'job', 'understand', 'like', 'dad', 'lie', 'bed', 'night', 'stare', 'ceiling', 'wonder', 'health', 'care', 'pay', 'mortgage', 'think', 'family', 'come', 'promise', 'answer', 'turn', 'inward', 'retreat', 'compete', 'faction', 'distrust', 'look', 'like', 'worship', 'way', 'news', 'source', 'end', 'uncivil', 'war', 'pit', 'red', 'blue', 'rural', 'versus', 'urban', 'conservative', 'versus', 'liberal', 'open', 'soul', 'instead', 'harden', 'heart', 'little', 'tolerance', 'humility', 'willing', 'stand', 'person', 'shoe', 'mom', 'moment', 'stand', 'shoe', 'thing', 'life', 'accounting', 'fate', 'deal', 'day', 'need', 'hand', 'day', 'call', 'lend', 'hand', 'way', 'country', 'strong', 'prosperous', 'ready', 'future', 'disagree', 'fellow', 'americans', 'work', 'ahead', 'go', 'need', 'need', 'strength', 'persevere', 'dark', 'winter', 'enter', 'tough', 'deadly', 'period', 'virus', 'set', 'aside', 'politic', 'finally', 'face', 'pandemic', 'nation', 'nation', 'promise', 'bible', 'say', 'weeping', 'endure', 'night', 'joy', 'cometh', 'morning', 'look', 'folk', 'colleague', 'serve', 'house', 'senate', 'understand', 'world', 'watch', 'watch', 'today', 'message', 'border', 'america', 'test', 'come', 'strong', 'repair', 'alliance', 'engage', 'world', 'meet', 'yesterday', 'challenge', 'today', 'tomorrow', 'challenge', 'lead', 'merely', 'example', 'power', 'power', 'example', 'strong', 'trusted', 'partner', 'peace', 'progress', 'security', 'look', 'know', 'nation', 'act', 'president', 'like', 'ask', 'join', 'moment', 'silent', 'prayer', 'remember', 'lose', 'past', 'year', 'pandemic', 'fellow', 'americans', 'mom', 'dad', 'husband', 'wife', 'son', 'daughter', 'friend', 'neighbor', 'coworker', 'honor', 'people', 'nation', 'know', 'ask', 'let', 'silent', 'prayer', 'lose', 'life', 'leave', 'country', 'point', 'moment', 'silence', 'observe', 'amen', 'folk', 'time', 'testing', 'face', 'attack', 'democracy', 'truth', 'rage', 'virus', 'grow', 'inequity', 'sting', 'systemic', 'racism', 'climate', 'crisis', 'america', 'role', 'world', 'challenge', 'profound', 'way', 'fact', 'face', 'present', 'nation', 'grave', 'responsibility', 'go', 'test', 'go', 'step', 'time', 'boldness', 'certain', 'promise', 'judge', 'resolve', 'cascade', 'crisis', 'era', 'rise', 'occasion', 'question', 'master', 'rare', 'difficult', 'hour', 'meet', 'obligation', 'pass', 'new', 'well', 'world', 'child', 'believe', 'sure', 'believe', 'write', 'great', 'chapter', 'history', 'united', 'states', 'america', 'american', 'story', 'story', 'sound', 'like', 'song', 'mean', 'lot', 'call', 'american', 'anthem', 'verse', 'stand', 'go', 'like', 'work', 'prayer', 'century', 'bring', 'day', 'shall', 'legacy', 'child', 'let', 'know', 'heart', 'day', 'america', 'america', 'give', 'good', 'let', 'add', 'work', 'prayer', 'unfold', 'story', 'great', 'nation', 'day', 'child', 'child', 'child', 'give', 'good', 'duty', 'heal', 'broken', 'land', 'fellow', 'americans', 'close', 'today', 'begin', 'sacred', 'oath', 'god', 'word', 'level', 'defend', 'constitution', 'defend', 'democracy', 'defend', 'america', 'service', 'think', 'power', 'possibility', 'personal', 'interest', 'public', 'good', 'shall', 'write', 'american', 'story', 'hope', 'fear', 'unity', 'division', 'light', 'darkness', 'story', 'decency', 'dignity', 'love', 'healing', 'greatness', 'goodness', 'story', 'guide', 'story', 'inspire', 'story', 'tell', 'age', 'come', 'answer', 'history', 'meet', 'moment', 'democracy', 'hope', 'truth', 'justice', 'die', 'watch', 'thrive', 'america', 'secure', 'liberty', 'home', 'stand', 'beacon', 'world', 'owe', 'forebearer', 'generation', 'follow', 'purpose', 'resolve', 'turn', 'task', 'time', 'sustain', 'faith', 'drive', 'conviction', 'devote', 'country', 'love', 'heart', 'god', 'bless', 'america', 'god', 'protect', 'troop', 'thank', 'america', 'michelle obama', 'washington, dc', \"nation's capital\", \"nation's capital\", 'united states of america', 'buy american', 'united states of america', 'justice roberts', 'american wayâ\\x80\\x94restless', 'george washington', 'abraham lincoln', 'emancipation proclamation', 'united states of america', 'kamala harris', 'arlington cemetery', 'saint augustine', 'united states of america']\n"
          ]
        }
      ]
    },
    {
      "cell_type": "markdown",
      "source": [
        "## Create The Index"
      ],
      "metadata": {
        "id": "hfmkjOnB2Jgn"
      }
    },
    {
      "cell_type": "code",
      "source": [
        "#list_docs = []    # list of raw text documents\n",
        "#for fid in list_fnames:\n",
        "#    list_docs.append(inaugural.raw(fid))\n",
        "\n",
        "#print(len(list_docs))\n",
        "#print(list_fnames)\n",
        "#print(inaugural.words('1789-Washington.txt')) # replace words with paras - get paragraphs\n",
        "\n",
        "\n",
        "def create_invIndex(docList):\n",
        "    invIndex = {}\n",
        "    for doc in docList:\n",
        "        doc_tokenized = preProcess(inaugural.raw(doc)) #inaugural.words(doc)\n",
        "        for term in doc_tokenized:\n",
        "            # Check if the term is in the dictionary, and if not, initialize an empty list\n",
        "            if term not in invIndex:\n",
        "                invIndex[term] = []  # Initialize an empty list for the term\n",
        "\n",
        "            # Append the document to the list if it is not already present\n",
        "            if doc not in invIndex[term]:\n",
        "                invIndex[term].append(doc)\n",
        "\n",
        "    return invIndex\n"
      ],
      "metadata": {
        "id": "yAVEGw4Ucxgj"
      },
      "execution_count": 115,
      "outputs": []
    },
    {
      "cell_type": "code",
      "source": [
        "myInvIndex = create_invIndex(list_fnames)\n",
        "\n",
        "#for term, docs in myInvIndex.items():\n",
        "#       print(f\"{term}: {docs}\")"
      ],
      "metadata": {
        "id": "ST0e24AwpI0j"
      },
      "execution_count": 116,
      "outputs": []
    },
    {
      "cell_type": "markdown",
      "source": [
        "## Which nlp processing steps did you use?\n",
        "\n",
        "\n",
        "*   remove stop words\n",
        "*   remove non-alpha characters\n",
        "*   add ners (Person, group, organization, locations)\n",
        "*   make all terms lowercase\n",
        "\n",
        "\n",
        "\n"
      ],
      "metadata": {
        "id": "fkcd-IgeKXuP"
      }
    },
    {
      "cell_type": "markdown",
      "source": [],
      "metadata": {
        "id": "sxinzMsVKgas"
      }
    },
    {
      "cell_type": "markdown",
      "source": [
        "##What is the vocabulary size (# of unique terms after processing) of the whole corpus after nlp processing (number of unique terms)."
      ],
      "metadata": {
        "id": "y2eVCWQ7Kg1e"
      }
    },
    {
      "cell_type": "code",
      "source": [
        "len(myInvIndex)"
      ],
      "metadata": {
        "colab": {
          "base_uri": "https://localhost:8080/"
        },
        "id": "WPjfIUxjKijI",
        "outputId": "d5e80ca5-642e-42cf-9895-486769bd99ec"
      },
      "execution_count": 117,
      "outputs": [
        {
          "output_type": "execute_result",
          "data": {
            "text/plain": [
              "6672"
            ]
          },
          "metadata": {},
          "execution_count": 117
        }
      ]
    },
    {
      "cell_type": "markdown",
      "source": [
        "\n",
        "##Which names, locations and organizations you found and added to the corpus vocabulary\n",
        "(examples of what was added to corpus vocabulary)\n",
        "\n",
        "*   abraham lincoln\n",
        "*   arlington cemetery\n",
        "*   saint augustine\n",
        "*   kamala harris\n",
        "\n",
        "\n",
        "\n"
      ],
      "metadata": {
        "id": "2RC8NugUKb3r"
      }
    },
    {
      "cell_type": "markdown",
      "source": [
        "##What are the most frequent and least frequent 10 words in the corpus and their document frequencies."
      ],
      "metadata": {
        "id": "U3oRieX1KUEk"
      }
    },
    {
      "cell_type": "code",
      "source": [
        "def termFrequency(docList):\n",
        "  freqList = {}\n",
        "  for doc in docList:\n",
        "    doc_tokenized = preProcess(inaugural.raw(doc)) #inaugural.words(doc)\n",
        "    for term in doc_tokenized:\n",
        "        # Check if the term is in the dictionary, and if not, initialize an empty list\n",
        "        if term not in freqList:\n",
        "            freqList[term] = 1  # Initialize an empty list for the term\n",
        "        # Append the document to the list if it is not already present\n",
        "        else:\n",
        "            freqList[term] += 1\n",
        "  return freqList"
      ],
      "metadata": {
        "id": "9zxrcF_lKPJ7"
      },
      "execution_count": 118,
      "outputs": []
    },
    {
      "cell_type": "code",
      "source": [
        "def sort_by_frequency(freq_dict):\n",
        "    sorted_freq = sorted(freq_dict.items(), key=lambda item: item[1], reverse=True) # sorts the dictionary by values in descending order\n",
        "    return sorted_freq"
      ],
      "metadata": {
        "id": "39j4_vCmNKW7"
      },
      "execution_count": 119,
      "outputs": []
    },
    {
      "cell_type": "code",
      "source": [
        "myFreqList = termFrequency(list_fnames)\n",
        "\n",
        "my_sorted = sort_by_frequency(myFreqList)\n",
        "\n",
        "print(\"Most Common\")\n",
        "print(\"Term , Frequency, Document Frequency\")\n",
        "for term, freq in my_sorted[:10]:\n",
        "       print(f\"{term} , {freq} , {len(myInvIndex[term])}\")\n",
        "\n",
        "print(\"\\n\")\n",
        "\n",
        "\n",
        "print(\"Least Common\")\n",
        "print(\"Term , Frequency, Document Frequency\")\n",
        "for term, freq in my_sorted[-10:]:\n",
        "       print(f\"{term} , {freq} , {len(myInvIndex[term])}\")"
      ],
      "metadata": {
        "colab": {
          "base_uri": "https://localhost:8080/"
        },
        "id": "HAvJzkSHLrg6",
        "outputId": "e0755f13-8b27-4929-aebe-6b7b0058baf3"
      },
      "execution_count": 120,
      "outputs": [
        {
          "output_type": "stream",
          "name": "stdout",
          "text": [
            "Most Common\n",
            "Term , Frequency, Document Frequency\n",
            "government , 651 , 55\n",
            "people , 633 , 57\n",
            "nation , 517 , 57\n",
            "great , 441 , 57\n",
            "country , 359 , 56\n",
            "world , 348 , 54\n",
            "power , 341 , 50\n",
            "shall , 316 , 51\n",
            "states , 309 , 46\n",
            "citizen , 298 , 55\n",
            "\n",
            "\n",
            "Least Common\n",
            "Term , Frequency, Document Frequency\n",
            "systemic , 1 , 1\n",
            "cascade , 1 , 1\n",
            "anthem , 1 , 1\n",
            "verse , 1 , 1\n",
            "forebearer , 1 , 1\n",
            "american wayârestless , 1 , 1\n",
            "emancipation proclamation , 1 , 1\n",
            "kamala harris , 1 , 1\n",
            "arlington cemetery , 1 , 1\n",
            "saint augustine , 1 , 1\n"
          ]
        }
      ]
    },
    {
      "cell_type": "markdown",
      "source": [
        "#2. Come up with 3 queries related to the inaugural addresses (look at the text of some of the addresses). The queries should consists of more than one word. For example: 'American foreign policy', 'recover from economic depression', etc. Check that all words in your queries appear somewhere in your documents. Hint: Do not use very common or very rare words. Do not forget to process the queries using the same nlp processing steps as the documents.\n",
        "\n"
      ],
      "metadata": {
        "id": "h_fSbCICszba"
      }
    },
    {
      "cell_type": "markdown",
      "source": [
        "##For each query, display the query and the document frequency of each term."
      ],
      "metadata": {
        "id": "sxd_tw25ROEW"
      }
    },
    {
      "cell_type": "code",
      "source": [],
      "metadata": {
        "id": "Hh0YZHpbXQzY"
      },
      "execution_count": 120,
      "outputs": []
    },
    {
      "cell_type": "code",
      "source": [
        "def queryProcess(query, invIndex):\n",
        "    tokens = preProcess(query.lower())  # Ensure lowercase before tokenizing\n",
        "    print(\"Tokens:\", tokens)  # Debug step\n",
        "    for token in tokens:\n",
        "        if token in invIndex:\n",
        "            addresses = []\n",
        "            print(f\"{token} , {len(invIndex[token])}\")\n",
        "            for address in invIndex[token]:\n",
        "                addresses.append(address)\n",
        "            print(addresses)\n",
        "        else:\n",
        "            print(f\"Token '{token}' not found in index\")\n"
      ],
      "metadata": {
        "id": "lebnEhEIXEij"
      },
      "execution_count": 121,
      "outputs": []
    },
    {
      "cell_type": "code",
      "source": [
        "Query_1 = \"economic growth policy\"\n",
        "Query_2 = \"national security defense\"\n",
        "Query_3 = \"god bless america\"\n",
        "\n",
        "print(f\"Query 1: {Query_1}\")\n",
        "print(queryProcess(Query_1,myInvIndex))\n",
        "\n",
        "print(\"\\n\")\n",
        "\n",
        "\n",
        "print(f\"Query 2: {Query_2}\")\n",
        "print(queryProcess(Query_2,myInvIndex))\n",
        "\n",
        "print(\"\\n\")\n",
        "\n",
        "print(f\"Query 3: {Query_3}\")\n",
        "print(queryProcess(Query_3,myInvIndex))"
      ],
      "metadata": {
        "id": "nG545UXss3aC",
        "colab": {
          "base_uri": "https://localhost:8080/"
        },
        "outputId": "e856e97e-3d10-4d84-afab-9b15a4676f2f"
      },
      "execution_count": 122,
      "outputs": [
        {
          "output_type": "stream",
          "name": "stdout",
          "text": [
            "Query 1: economic growth policy\n",
            "Tokens: ['economic', 'growth', 'policy']\n",
            "economic , 16\n",
            "['1897-McKinley.txt', '1909-Taft.txt', '1913-Wilson.txt', '1917-Wilson.txt', '1921-Harding.txt', '1925-Coolidge.txt', '1929-Hoover.txt', '1933-Roosevelt.txt', '1937-Roosevelt.txt', '1949-Truman.txt', '1953-Eisenhower.txt', '1957-Eisenhower.txt', '1981-Reagan.txt', '1985-Reagan.txt', '2005-Bush.txt', '2013-Obama.txt']\n",
            "growth , 19\n",
            "['1809-Madison.txt', '1817-Monroe.txt', '1841-Harrison.txt', '1853-Pierce.txt', '1857-Buchanan.txt', '1881-Garfield.txt', '1889-Harrison.txt', '1893-Cleveland.txt', '1905-Roosevelt.txt', '1909-Taft.txt', '1929-Hoover.txt', '1949-Truman.txt', '1957-Eisenhower.txt', '1965-Johnson.txt', '1969-Nixon.txt', '1981-Reagan.txt', '1985-Reagan.txt', '2005-Bush.txt', '2009-Obama.txt']\n",
            "policy , 34\n",
            "['1789-Washington.txt', '1809-Madison.txt', '1813-Madison.txt', '1817-Monroe.txt', '1821-Monroe.txt', '1825-Adams.txt', '1829-Jackson.txt', '1833-Jackson.txt', '1837-VanBuren.txt', '1841-Harrison.txt', '1845-Polk.txt', '1849-Taylor.txt', '1853-Pierce.txt', '1857-Buchanan.txt', '1861-Lincoln.txt', '1869-Grant.txt', '1877-Hayes.txt', '1881-Garfield.txt', '1885-Cleveland.txt', '1889-Harrison.txt', '1893-Cleveland.txt', '1897-McKinley.txt', '1901-McKinley.txt', '1909-Taft.txt', '1913-Wilson.txt', '1921-Harding.txt', '1925-Coolidge.txt', '1929-Hoover.txt', '1933-Roosevelt.txt', '1949-Truman.txt', '1953-Eisenhower.txt', '1973-Nixon.txt', '1977-Carter.txt', '2005-Bush.txt']\n",
            "None\n",
            "\n",
            "\n",
            "Query 2: national security defense\n",
            "Tokens: ['national', 'security', 'defense', 'national security defense']\n",
            "national , 46\n",
            "['1789-Washington.txt', '1797-Adams.txt', '1809-Madison.txt', '1813-Madison.txt', '1817-Monroe.txt', '1821-Monroe.txt', '1825-Adams.txt', '1829-Jackson.txt', '1837-VanBuren.txt', '1841-Harrison.txt', '1845-Polk.txt', '1849-Taylor.txt', '1853-Pierce.txt', '1857-Buchanan.txt', '1861-Lincoln.txt', '1869-Grant.txt', '1873-Grant.txt', '1877-Hayes.txt', '1881-Garfield.txt', '1885-Cleveland.txt', '1889-Harrison.txt', '1893-Cleveland.txt', '1897-McKinley.txt', '1901-McKinley.txt', '1905-Roosevelt.txt', '1909-Taft.txt', '1913-Wilson.txt', '1917-Wilson.txt', '1921-Harding.txt', '1925-Coolidge.txt', '1929-Hoover.txt', '1933-Roosevelt.txt', '1937-Roosevelt.txt', '1941-Roosevelt.txt', '1949-Truman.txt', '1961-Kennedy.txt', '1969-Nixon.txt', '1973-Nixon.txt', '1977-Carter.txt', '1981-Reagan.txt', '1985-Reagan.txt', '2001-Bush.txt', '2005-Bush.txt', '2013-Obama.txt', '2017-Trump.txt', '2021-Biden.txt']\n",
            "security , 32\n",
            "['1789-Washington.txt', '1813-Madison.txt', '1817-Monroe.txt', '1825-Adams.txt', '1837-VanBuren.txt', '1841-Harrison.txt', '1845-Polk.txt', '1853-Pierce.txt', '1857-Buchanan.txt', '1861-Lincoln.txt', '1869-Grant.txt', '1885-Cleveland.txt', '1889-Harrison.txt', '1901-McKinley.txt', '1909-Taft.txt', '1921-Harding.txt', '1925-Coolidge.txt', '1929-Hoover.txt', '1937-Roosevelt.txt', '1941-Roosevelt.txt', '1949-Truman.txt', '1953-Eisenhower.txt', '1957-Eisenhower.txt', '1981-Reagan.txt', '1985-Reagan.txt', '1989-Bush.txt', '1997-Clinton.txt', '2001-Bush.txt', '2005-Bush.txt', '2009-Obama.txt', '2013-Obama.txt', '2021-Biden.txt']\n",
            "defense , 23\n",
            "['1797-Adams.txt', '1817-Monroe.txt', '1821-Monroe.txt', '1825-Adams.txt', '1829-Jackson.txt', '1841-Harrison.txt', '1853-Pierce.txt', '1857-Buchanan.txt', '1889-Harrison.txt', '1893-Cleveland.txt', '1909-Taft.txt', '1921-Harding.txt', '1925-Coolidge.txt', '1929-Hoover.txt', '1941-Roosevelt.txt', '1949-Truman.txt', '1953-Eisenhower.txt', '1957-Eisenhower.txt', '1985-Reagan.txt', '1997-Clinton.txt', '2001-Bush.txt', '2009-Obama.txt', '2013-Obama.txt']\n",
            "Token 'national security defense' not found in index\n",
            "None\n",
            "\n",
            "\n",
            "Query 3: god bless america\n",
            "Tokens: ['god', 'bless', 'america', 'god bless america']\n",
            "god , 39\n",
            "['1821-Monroe.txt', '1853-Pierce.txt', '1857-Buchanan.txt', '1865-Lincoln.txt', '1869-Grant.txt', '1881-Garfield.txt', '1885-Cleveland.txt', '1889-Harrison.txt', '1893-Cleveland.txt', '1897-McKinley.txt', '1901-McKinley.txt', '1909-Taft.txt', '1913-Wilson.txt', '1917-Wilson.txt', '1921-Harding.txt', '1925-Coolidge.txt', '1929-Hoover.txt', '1933-Roosevelt.txt', '1941-Roosevelt.txt', '1945-Roosevelt.txt', '1949-Truman.txt', '1953-Eisenhower.txt', '1957-Eisenhower.txt', '1961-Kennedy.txt', '1965-Johnson.txt', '1969-Nixon.txt', '1973-Nixon.txt', '1977-Carter.txt', '1981-Reagan.txt', '1985-Reagan.txt', '1989-Bush.txt', '1993-Clinton.txt', '1997-Clinton.txt', '2001-Bush.txt', '2005-Bush.txt', '2009-Obama.txt', '2013-Obama.txt', '2017-Trump.txt', '2021-Biden.txt']\n",
            "bless , 21\n",
            "['1817-Monroe.txt', '1837-VanBuren.txt', '1841-Harrison.txt', '1857-Buchanan.txt', '1881-Garfield.txt', '1901-McKinley.txt', '1905-Roosevelt.txt', '1929-Hoover.txt', '1937-Roosevelt.txt', '1945-Roosevelt.txt', '1981-Reagan.txt', '1985-Reagan.txt', '1989-Bush.txt', '1993-Clinton.txt', '1997-Clinton.txt', '2001-Bush.txt', '2005-Bush.txt', '2009-Obama.txt', '2013-Obama.txt', '2017-Trump.txt', '2021-Biden.txt']\n",
            "america , 32\n",
            "['1793-Washington.txt', '1797-Adams.txt', '1821-Monroe.txt', '1837-VanBuren.txt', '1857-Buchanan.txt', '1881-Garfield.txt', '1909-Taft.txt', '1917-Wilson.txt', '1921-Harding.txt', '1925-Coolidge.txt', '1929-Hoover.txt', '1937-Roosevelt.txt', '1941-Roosevelt.txt', '1945-Roosevelt.txt', '1953-Eisenhower.txt', '1957-Eisenhower.txt', '1961-Kennedy.txt', '1965-Johnson.txt', '1969-Nixon.txt', '1973-Nixon.txt', '1977-Carter.txt', '1981-Reagan.txt', '1985-Reagan.txt', '1989-Bush.txt', '1993-Clinton.txt', '1997-Clinton.txt', '2001-Bush.txt', '2005-Bush.txt', '2009-Obama.txt', '2013-Obama.txt', '2017-Trump.txt', '2021-Biden.txt']\n",
            "Token 'god bless america' not found in index\n",
            "None\n"
          ]
        }
      ]
    },
    {
      "cell_type": "markdown",
      "source": [
        "# 3. Write a function to compute the similarity of a query with the collection of inaugural addresses. Do this efficiently by computing the similarity between a query and only the set of documents that contain at least two words from the query. Implement two different TF-IDF similarity functions (one of them should be BM25 - choose another one from the slides or textbook). Retrieve the ranked list of the first 5 most similar inaugural addresses for each of your queries and for each similarity function.\n",
        "\n"
      ],
      "metadata": {
        "id": "fnWje2-Qs5wY"
      }
    },
    {
      "cell_type": "markdown",
      "source": [
        "##For each method, and each query, display the most similar 5 titles of the inaugural addresses (not the full text) and their similarity values."
      ],
      "metadata": {
        "id": "uztfdJdRRSX0"
      }
    },
    {
      "cell_type": "code",
      "source": [
        "def documentDict(query, invIndex):\n",
        "    tokens = preProcess(query.lower())\n",
        "    addressFreq = {}\n",
        "\n",
        "    for token in tokens:\n",
        "        if token in invIndex:  # Check if token exists in the inverted index\n",
        "            for address in invIndex[token]:\n",
        "                if address not in addressFreq:\n",
        "                    addressFreq[address] = 1\n",
        "                else:\n",
        "                    addressFreq[address] += 1\n",
        "\n",
        "    # Only keep addresses that appear for at least two tokens\n",
        "    addressFreq = {address: freq for address, freq in addressFreq.items() if freq >= 2}\n",
        "\n",
        "    return addressFreq\n"
      ],
      "metadata": {
        "id": "8nT2kPMqiOAu"
      },
      "execution_count": 123,
      "outputs": []
    },
    {
      "cell_type": "code",
      "source": [
        "print(f\"Query 1: {Query_1}\")\n",
        "docList1 = documentDict(Query_1,myInvIndex)\n",
        "print(documentDict(Query_1,myInvIndex))\n",
        "\n",
        "print(\"\\n\")\n",
        "\n",
        "print(f\"Query 2: {Query_2}\")\n",
        "docList2 = documentDict(Query_2,myInvIndex)\n",
        "print(documentDict(Query_2,myInvIndex))\n",
        "\n",
        "print(\"\\n\")\n",
        "\n",
        "print(f\"Query 3: {Query_3}\")\n",
        "docList3 = documentDict(Query_3,myInvIndex)\n",
        "print(documentDict(Query_3,myInvIndex))\n"
      ],
      "metadata": {
        "colab": {
          "base_uri": "https://localhost:8080/"
        },
        "id": "QVDom2WClAbE",
        "outputId": "57971b13-4af4-42d8-ba89-e1f9cd46a142"
      },
      "execution_count": 124,
      "outputs": [
        {
          "output_type": "stream",
          "name": "stdout",
          "text": [
            "Query 1: economic growth policy\n",
            "{'1897-McKinley.txt': 2, '1909-Taft.txt': 3, '1913-Wilson.txt': 2, '1921-Harding.txt': 2, '1925-Coolidge.txt': 2, '1929-Hoover.txt': 3, '1933-Roosevelt.txt': 2, '1949-Truman.txt': 3, '1953-Eisenhower.txt': 2, '1957-Eisenhower.txt': 2, '1981-Reagan.txt': 2, '1985-Reagan.txt': 2, '2005-Bush.txt': 3, '1809-Madison.txt': 2, '1817-Monroe.txt': 2, '1841-Harrison.txt': 2, '1853-Pierce.txt': 2, '1857-Buchanan.txt': 2, '1881-Garfield.txt': 2, '1889-Harrison.txt': 2, '1893-Cleveland.txt': 2}\n",
            "\n",
            "\n",
            "Query 2: national security defense\n",
            "{'1789-Washington.txt': 2, '1797-Adams.txt': 2, '1813-Madison.txt': 2, '1817-Monroe.txt': 3, '1821-Monroe.txt': 2, '1825-Adams.txt': 3, '1829-Jackson.txt': 2, '1837-VanBuren.txt': 2, '1841-Harrison.txt': 3, '1845-Polk.txt': 2, '1853-Pierce.txt': 3, '1857-Buchanan.txt': 3, '1861-Lincoln.txt': 2, '1869-Grant.txt': 2, '1885-Cleveland.txt': 2, '1889-Harrison.txt': 3, '1893-Cleveland.txt': 2, '1901-McKinley.txt': 2, '1909-Taft.txt': 3, '1921-Harding.txt': 3, '1925-Coolidge.txt': 3, '1929-Hoover.txt': 3, '1937-Roosevelt.txt': 2, '1941-Roosevelt.txt': 3, '1949-Truman.txt': 3, '1981-Reagan.txt': 2, '1985-Reagan.txt': 3, '2001-Bush.txt': 3, '2005-Bush.txt': 2, '2013-Obama.txt': 3, '2021-Biden.txt': 2, '1953-Eisenhower.txt': 2, '1957-Eisenhower.txt': 2, '1997-Clinton.txt': 2, '2009-Obama.txt': 2}\n",
            "\n",
            "\n",
            "Query 3: god bless america\n",
            "{'1821-Monroe.txt': 2, '1857-Buchanan.txt': 3, '1881-Garfield.txt': 3, '1901-McKinley.txt': 2, '1909-Taft.txt': 2, '1917-Wilson.txt': 2, '1921-Harding.txt': 2, '1925-Coolidge.txt': 2, '1929-Hoover.txt': 3, '1941-Roosevelt.txt': 2, '1945-Roosevelt.txt': 3, '1953-Eisenhower.txt': 2, '1957-Eisenhower.txt': 2, '1961-Kennedy.txt': 2, '1965-Johnson.txt': 2, '1969-Nixon.txt': 2, '1973-Nixon.txt': 2, '1977-Carter.txt': 2, '1981-Reagan.txt': 3, '1985-Reagan.txt': 3, '1989-Bush.txt': 3, '1993-Clinton.txt': 3, '1997-Clinton.txt': 3, '2001-Bush.txt': 3, '2005-Bush.txt': 3, '2009-Obama.txt': 3, '2013-Obama.txt': 3, '2017-Trump.txt': 3, '2021-Biden.txt': 3, '1837-VanBuren.txt': 2, '1937-Roosevelt.txt': 2}\n"
          ]
        }
      ]
    },
    {
      "cell_type": "markdown",
      "source": [
        "##Bm25"
      ],
      "metadata": {
        "id": "krw4QKEaweZK"
      }
    },
    {
      "cell_type": "code",
      "source": [
        "#pip install rank_bm25\n",
        "!pip install rank_bm25\n",
        "# Download necessary resources\n",
        "nltk.download('punkt')"
      ],
      "metadata": {
        "colab": {
          "base_uri": "https://localhost:8080/"
        },
        "id": "7zmQ7JhxsBAh",
        "outputId": "219ddb51-7700-4cd2-ee56-97329ca4b652"
      },
      "execution_count": 125,
      "outputs": [
        {
          "output_type": "stream",
          "name": "stdout",
          "text": [
            "Requirement already satisfied: rank_bm25 in /usr/local/lib/python3.10/dist-packages (0.2.2)\n",
            "Requirement already satisfied: numpy in /usr/local/lib/python3.10/dist-packages (from rank_bm25) (1.26.4)\n"
          ]
        },
        {
          "output_type": "stream",
          "name": "stderr",
          "text": [
            "[nltk_data] Downloading package punkt to /root/nltk_data...\n",
            "[nltk_data]   Package punkt is already up-to-date!\n"
          ]
        },
        {
          "output_type": "execute_result",
          "data": {
            "text/plain": [
              "True"
            ]
          },
          "metadata": {},
          "execution_count": 125
        }
      ]
    },
    {
      "cell_type": "code",
      "source": [
        "from rank_bm25 import BM25Okapi\n",
        "from nltk.tokenize import word_tokenize\n",
        "import nltk\n",
        "\n",
        "def BM25(query,documentList):\n",
        "  tokenized_documents = [preProcess(inaugural.raw(doc)) for doc in documentList]\n",
        "  bm25 = BM25Okapi(tokenized_documents)\n",
        "  tokenized_query = preProcess(query)\n",
        "  scores = bm25.get_scores(tokenized_query)\n",
        "\n",
        "  doc_scores = list(zip(documentList, scores))\n",
        "  sorted_doc_scores = sorted(doc_scores, key=lambda x: x[1], reverse=True)\n",
        "  return sorted_doc_scores\n"
      ],
      "metadata": {
        "id": "LDSGyzy6s9Xd"
      },
      "execution_count": 126,
      "outputs": []
    },
    {
      "cell_type": "code",
      "source": [
        "print(BM25(Query_1,docList1))\n",
        "print(\"\\n)\")\n",
        "print(BM25(Query_2,docList2))\n",
        "print(\"\\n)\")\n",
        "print(BM25(Query_3,docList3))\n",
        "print(\"\\n)\")"
      ],
      "metadata": {
        "colab": {
          "base_uri": "https://localhost:8080/"
        },
        "id": "LGse7ERatKPv",
        "outputId": "41cdf8e9-7a86-453a-e18d-24594f73ec90"
      },
      "execution_count": 127,
      "outputs": [
        {
          "output_type": "stream",
          "name": "stdout",
          "text": [
            "[('1929-Hoover.txt', 2.4375133483866036), ('1909-Taft.txt', 2.031863469239845), ('1949-Truman.txt', 2.022562764637589), ('2005-Bush.txt', 1.8428023163837928), ('1921-Harding.txt', 1.7181354751407691), ('1985-Reagan.txt', 1.7081279350211274), ('1925-Coolidge.txt', 1.6873666018940816), ('1981-Reagan.txt', 1.642657941170747), ('1889-Harrison.txt', 1.5434277385663342), ('1933-Roosevelt.txt', 1.4427740790945358), ('1897-McKinley.txt', 1.4080568962451037), ('1953-Eisenhower.txt', 1.4067641957458028), ('1809-Madison.txt', 1.331909201112408), ('1881-Garfield.txt', 1.270467408383716), ('1817-Monroe.txt', 1.2442394730989779), ('1913-Wilson.txt', 1.2047353035052386), ('1957-Eisenhower.txt', 1.203713672573131), ('1857-Buchanan.txt', 1.1893648820969989), ('1853-Pierce.txt', 1.126601031941811), ('1893-Cleveland.txt', 1.10486641418646), ('1841-Harrison.txt', 0.7451835468346131)]\n",
            "\n",
            ")\n",
            "[('1949-Truman.txt', 3.261278435466696), ('1985-Reagan.txt', 3.0896473869156065), ('1825-Adams.txt', 3.027766974371089), ('1889-Harrison.txt', 2.8046107278665806), ('1941-Roosevelt.txt', 2.7818069701144372), ('1817-Monroe.txt', 2.7795925367286616), ('1853-Pierce.txt', 2.693147291320794), ('1921-Harding.txt', 2.625629755515926), ('1909-Taft.txt', 2.557946952639835), ('1925-Coolidge.txt', 2.3632814696447446), ('2013-Obama.txt', 2.3530837826968893), ('1929-Hoover.txt', 2.3334882668157304), ('2001-Bush.txt', 2.1678545839203016), ('1861-Lincoln.txt', 2.1504750173367855), ('1857-Buchanan.txt', 2.1209907825815586), ('1953-Eisenhower.txt', 2.0655076215910677), ('1901-McKinley.txt', 2.049263326227783), ('1821-Monroe.txt', 2.038100923007545), ('1829-Jackson.txt', 1.9959565224730293), ('1797-Adams.txt', 1.984001867246234), ('1869-Grant.txt', 1.9476489669304164), ('1893-Cleveland.txt', 1.8587107422203446), ('1885-Cleveland.txt', 1.8470876723875036), ('1813-Madison.txt', 1.809277854563189), ('1981-Reagan.txt', 1.7807067600688795), ('1957-Eisenhower.txt', 1.67366199216442), ('2005-Bush.txt', 1.6713146498438602), ('1841-Harrison.txt', 1.594874551553242), ('1789-Washington.txt', 1.5161490516012617), ('2021-Biden.txt', 1.5033712810632178), ('2009-Obama.txt', 1.4939695058835523), ('1845-Polk.txt', 1.4381316155543356), ('1837-VanBuren.txt', 1.3788392199405979), ('1937-Roosevelt.txt', 1.3613881176328566), ('1997-Clinton.txt', 1.2888611643282901)]\n",
            "\n",
            ")\n",
            "[('2017-Trump.txt', 3.594246320502876), ('1985-Reagan.txt', 3.3634401890719827), ('2001-Bush.txt', 3.2501037153289785), ('2013-Obama.txt', 3.1963313705474867), ('2009-Obama.txt', 3.1535229902382103), ('1989-Bush.txt', 3.125204438202425), ('1981-Reagan.txt', 3.068951057475733), ('2021-Biden.txt', 2.9456307433938864), ('1993-Clinton.txt', 2.938119767855339), ('1945-Roosevelt.txt', 2.8548055719963044), ('2005-Bush.txt', 2.8427638765092276), ('1997-Clinton.txt', 2.733394237100254), ('1973-Nixon.txt', 2.4596539191983933), ('1921-Harding.txt', 2.3553088632681485), ('1969-Nixon.txt', 2.3367697701986856), ('1929-Hoover.txt', 2.2119978095730075), ('1965-Johnson.txt', 2.1361222392905197), ('1953-Eisenhower.txt', 2.016175965614705), ('1961-Kennedy.txt', 1.9965987793358349), ('1941-Roosevelt.txt', 1.9741715370189552), ('1917-Wilson.txt', 1.8995204728884278), ('1881-Garfield.txt', 1.895275648507107), ('1957-Eisenhower.txt', 1.8247232345345679), ('1977-Carter.txt', 1.713974594134322), ('1857-Buchanan.txt', 1.569022519696811), ('1925-Coolidge.txt', 1.562190072422848), ('1901-McKinley.txt', 1.4183137536650967), ('1937-Roosevelt.txt', 1.2543046233504616), ('1909-Taft.txt', 1.1779185203809939), ('1821-Monroe.txt', 1.0713169046766446), ('1837-VanBuren.txt', 0.8844249106619337)]\n",
            "\n",
            ")\n"
          ]
        }
      ]
    },
    {
      "cell_type": "code",
      "source": [
        "nltk.download('all')"
      ],
      "metadata": {
        "id": "4Q64uZIf8fQm",
        "colab": {
          "base_uri": "https://localhost:8080/"
        },
        "outputId": "df85a29d-ff0b-4699-ad70-136d6e456f43"
      },
      "execution_count": 128,
      "outputs": [
        {
          "output_type": "stream",
          "name": "stderr",
          "text": [
            "[nltk_data] Downloading collection 'all'\n",
            "[nltk_data]    | \n",
            "[nltk_data]    | Downloading package abc to /root/nltk_data...\n",
            "[nltk_data]    |   Package abc is already up-to-date!\n",
            "[nltk_data]    | Downloading package alpino to /root/nltk_data...\n",
            "[nltk_data]    |   Package alpino is already up-to-date!\n",
            "[nltk_data]    | Downloading package averaged_perceptron_tagger to\n",
            "[nltk_data]    |     /root/nltk_data...\n",
            "[nltk_data]    |   Package averaged_perceptron_tagger is already up-\n",
            "[nltk_data]    |       to-date!\n",
            "[nltk_data]    | Downloading package averaged_perceptron_tagger_eng to\n",
            "[nltk_data]    |     /root/nltk_data...\n",
            "[nltk_data]    |   Package averaged_perceptron_tagger_eng is already\n",
            "[nltk_data]    |       up-to-date!\n",
            "[nltk_data]    | Downloading package averaged_perceptron_tagger_ru to\n",
            "[nltk_data]    |     /root/nltk_data...\n",
            "[nltk_data]    |   Package averaged_perceptron_tagger_ru is already\n",
            "[nltk_data]    |       up-to-date!\n",
            "[nltk_data]    | Downloading package averaged_perceptron_tagger_rus to\n",
            "[nltk_data]    |     /root/nltk_data...\n",
            "[nltk_data]    |   Package averaged_perceptron_tagger_rus is already\n",
            "[nltk_data]    |       up-to-date!\n",
            "[nltk_data]    | Downloading package basque_grammars to\n",
            "[nltk_data]    |     /root/nltk_data...\n",
            "[nltk_data]    |   Package basque_grammars is already up-to-date!\n",
            "[nltk_data]    | Downloading package bcp47 to /root/nltk_data...\n",
            "[nltk_data]    |   Package bcp47 is already up-to-date!\n",
            "[nltk_data]    | Downloading package biocreative_ppi to\n",
            "[nltk_data]    |     /root/nltk_data...\n",
            "[nltk_data]    |   Package biocreative_ppi is already up-to-date!\n",
            "[nltk_data]    | Downloading package bllip_wsj_no_aux to\n",
            "[nltk_data]    |     /root/nltk_data...\n",
            "[nltk_data]    |   Package bllip_wsj_no_aux is already up-to-date!\n",
            "[nltk_data]    | Downloading package book_grammars to\n",
            "[nltk_data]    |     /root/nltk_data...\n",
            "[nltk_data]    |   Package book_grammars is already up-to-date!\n",
            "[nltk_data]    | Downloading package brown to /root/nltk_data...\n",
            "[nltk_data]    |   Package brown is already up-to-date!\n",
            "[nltk_data]    | Downloading package brown_tei to /root/nltk_data...\n",
            "[nltk_data]    |   Package brown_tei is already up-to-date!\n",
            "[nltk_data]    | Downloading package cess_cat to /root/nltk_data...\n",
            "[nltk_data]    |   Package cess_cat is already up-to-date!\n",
            "[nltk_data]    | Downloading package cess_esp to /root/nltk_data...\n",
            "[nltk_data]    |   Package cess_esp is already up-to-date!\n",
            "[nltk_data]    | Downloading package chat80 to /root/nltk_data...\n",
            "[nltk_data]    |   Package chat80 is already up-to-date!\n",
            "[nltk_data]    | Downloading package city_database to\n",
            "[nltk_data]    |     /root/nltk_data...\n",
            "[nltk_data]    |   Package city_database is already up-to-date!\n",
            "[nltk_data]    | Downloading package cmudict to /root/nltk_data...\n",
            "[nltk_data]    |   Package cmudict is already up-to-date!\n",
            "[nltk_data]    | Downloading package comparative_sentences to\n",
            "[nltk_data]    |     /root/nltk_data...\n",
            "[nltk_data]    |   Package comparative_sentences is already up-to-\n",
            "[nltk_data]    |       date!\n",
            "[nltk_data]    | Downloading package comtrans to /root/nltk_data...\n",
            "[nltk_data]    |   Package comtrans is already up-to-date!\n",
            "[nltk_data]    | Downloading package conll2000 to /root/nltk_data...\n",
            "[nltk_data]    |   Package conll2000 is already up-to-date!\n",
            "[nltk_data]    | Downloading package conll2002 to /root/nltk_data...\n",
            "[nltk_data]    |   Package conll2002 is already up-to-date!\n",
            "[nltk_data]    | Downloading package conll2007 to /root/nltk_data...\n",
            "[nltk_data]    |   Package conll2007 is already up-to-date!\n",
            "[nltk_data]    | Downloading package crubadan to /root/nltk_data...\n",
            "[nltk_data]    |   Package crubadan is already up-to-date!\n",
            "[nltk_data]    | Downloading package dependency_treebank to\n",
            "[nltk_data]    |     /root/nltk_data...\n",
            "[nltk_data]    |   Package dependency_treebank is already up-to-date!\n",
            "[nltk_data]    | Downloading package dolch to /root/nltk_data...\n",
            "[nltk_data]    |   Package dolch is already up-to-date!\n",
            "[nltk_data]    | Downloading package europarl_raw to\n",
            "[nltk_data]    |     /root/nltk_data...\n",
            "[nltk_data]    |   Package europarl_raw is already up-to-date!\n",
            "[nltk_data]    | Downloading package extended_omw to\n",
            "[nltk_data]    |     /root/nltk_data...\n",
            "[nltk_data]    |   Package extended_omw is already up-to-date!\n",
            "[nltk_data]    | Downloading package floresta to /root/nltk_data...\n",
            "[nltk_data]    |   Package floresta is already up-to-date!\n",
            "[nltk_data]    | Downloading package framenet_v15 to\n",
            "[nltk_data]    |     /root/nltk_data...\n",
            "[nltk_data]    |   Package framenet_v15 is already up-to-date!\n",
            "[nltk_data]    | Downloading package framenet_v17 to\n",
            "[nltk_data]    |     /root/nltk_data...\n",
            "[nltk_data]    |   Package framenet_v17 is already up-to-date!\n",
            "[nltk_data]    | Downloading package gazetteers to /root/nltk_data...\n",
            "[nltk_data]    |   Package gazetteers is already up-to-date!\n",
            "[nltk_data]    | Downloading package genesis to /root/nltk_data...\n",
            "[nltk_data]    |   Package genesis is already up-to-date!\n",
            "[nltk_data]    | Downloading package gutenberg to /root/nltk_data...\n",
            "[nltk_data]    |   Package gutenberg is already up-to-date!\n",
            "[nltk_data]    | Downloading package ieer to /root/nltk_data...\n",
            "[nltk_data]    |   Package ieer is already up-to-date!\n",
            "[nltk_data]    | Downloading package inaugural to /root/nltk_data...\n",
            "[nltk_data]    |   Package inaugural is already up-to-date!\n",
            "[nltk_data]    | Downloading package indian to /root/nltk_data...\n",
            "[nltk_data]    |   Package indian is already up-to-date!\n",
            "[nltk_data]    | Downloading package jeita to /root/nltk_data...\n",
            "[nltk_data]    |   Package jeita is already up-to-date!\n",
            "[nltk_data]    | Downloading package kimmo to /root/nltk_data...\n",
            "[nltk_data]    |   Package kimmo is already up-to-date!\n",
            "[nltk_data]    | Downloading package knbc to /root/nltk_data...\n",
            "[nltk_data]    |   Package knbc is already up-to-date!\n",
            "[nltk_data]    | Downloading package large_grammars to\n",
            "[nltk_data]    |     /root/nltk_data...\n",
            "[nltk_data]    |   Package large_grammars is already up-to-date!\n",
            "[nltk_data]    | Downloading package lin_thesaurus to\n",
            "[nltk_data]    |     /root/nltk_data...\n",
            "[nltk_data]    |   Package lin_thesaurus is already up-to-date!\n",
            "[nltk_data]    | Downloading package mac_morpho to /root/nltk_data...\n",
            "[nltk_data]    |   Package mac_morpho is already up-to-date!\n",
            "[nltk_data]    | Downloading package machado to /root/nltk_data...\n",
            "[nltk_data]    |   Package machado is already up-to-date!\n",
            "[nltk_data]    | Downloading package masc_tagged to /root/nltk_data...\n",
            "[nltk_data]    |   Package masc_tagged is already up-to-date!\n",
            "[nltk_data]    | Downloading package maxent_ne_chunker to\n",
            "[nltk_data]    |     /root/nltk_data...\n",
            "[nltk_data]    |   Package maxent_ne_chunker is already up-to-date!\n",
            "[nltk_data]    | Downloading package maxent_ne_chunker_tab to\n",
            "[nltk_data]    |     /root/nltk_data...\n",
            "[nltk_data]    |   Package maxent_ne_chunker_tab is already up-to-\n",
            "[nltk_data]    |       date!\n",
            "[nltk_data]    | Downloading package maxent_treebank_pos_tagger to\n",
            "[nltk_data]    |     /root/nltk_data...\n",
            "[nltk_data]    |   Package maxent_treebank_pos_tagger is already up-\n",
            "[nltk_data]    |       to-date!\n",
            "[nltk_data]    | Downloading package maxent_treebank_pos_tagger_tab to\n",
            "[nltk_data]    |     /root/nltk_data...\n",
            "[nltk_data]    |   Package maxent_treebank_pos_tagger_tab is already\n",
            "[nltk_data]    |       up-to-date!\n",
            "[nltk_data]    | Downloading package moses_sample to\n",
            "[nltk_data]    |     /root/nltk_data...\n",
            "[nltk_data]    |   Package moses_sample is already up-to-date!\n",
            "[nltk_data]    | Downloading package movie_reviews to\n",
            "[nltk_data]    |     /root/nltk_data...\n",
            "[nltk_data]    |   Package movie_reviews is already up-to-date!\n",
            "[nltk_data]    | Downloading package mte_teip5 to /root/nltk_data...\n",
            "[nltk_data]    |   Package mte_teip5 is already up-to-date!\n",
            "[nltk_data]    | Downloading package mwa_ppdb to /root/nltk_data...\n",
            "[nltk_data]    |   Package mwa_ppdb is already up-to-date!\n",
            "[nltk_data]    | Downloading package names to /root/nltk_data...\n",
            "[nltk_data]    |   Package names is already up-to-date!\n",
            "[nltk_data]    | Downloading package nombank.1.0 to /root/nltk_data...\n",
            "[nltk_data]    |   Package nombank.1.0 is already up-to-date!\n",
            "[nltk_data]    | Downloading package nonbreaking_prefixes to\n",
            "[nltk_data]    |     /root/nltk_data...\n",
            "[nltk_data]    |   Package nonbreaking_prefixes is already up-to-date!\n",
            "[nltk_data]    | Downloading package nps_chat to /root/nltk_data...\n",
            "[nltk_data]    |   Package nps_chat is already up-to-date!\n",
            "[nltk_data]    | Downloading package omw to /root/nltk_data...\n",
            "[nltk_data]    |   Package omw is already up-to-date!\n",
            "[nltk_data]    | Downloading package omw-1.4 to /root/nltk_data...\n",
            "[nltk_data]    |   Package omw-1.4 is already up-to-date!\n",
            "[nltk_data]    | Downloading package opinion_lexicon to\n",
            "[nltk_data]    |     /root/nltk_data...\n",
            "[nltk_data]    |   Package opinion_lexicon is already up-to-date!\n",
            "[nltk_data]    | Downloading package panlex_swadesh to\n",
            "[nltk_data]    |     /root/nltk_data...\n",
            "[nltk_data]    |   Package panlex_swadesh is already up-to-date!\n",
            "[nltk_data]    | Downloading package paradigms to /root/nltk_data...\n",
            "[nltk_data]    |   Package paradigms is already up-to-date!\n",
            "[nltk_data]    | Downloading package pe08 to /root/nltk_data...\n",
            "[nltk_data]    |   Package pe08 is already up-to-date!\n",
            "[nltk_data]    | Downloading package perluniprops to\n",
            "[nltk_data]    |     /root/nltk_data...\n",
            "[nltk_data]    |   Package perluniprops is already up-to-date!\n",
            "[nltk_data]    | Downloading package pil to /root/nltk_data...\n",
            "[nltk_data]    |   Package pil is already up-to-date!\n",
            "[nltk_data]    | Downloading package pl196x to /root/nltk_data...\n",
            "[nltk_data]    |   Package pl196x is already up-to-date!\n",
            "[nltk_data]    | Downloading package porter_test to /root/nltk_data...\n",
            "[nltk_data]    |   Package porter_test is already up-to-date!\n",
            "[nltk_data]    | Downloading package ppattach to /root/nltk_data...\n",
            "[nltk_data]    |   Package ppattach is already up-to-date!\n",
            "[nltk_data]    | Downloading package problem_reports to\n",
            "[nltk_data]    |     /root/nltk_data...\n",
            "[nltk_data]    |   Package problem_reports is already up-to-date!\n",
            "[nltk_data]    | Downloading package product_reviews_1 to\n",
            "[nltk_data]    |     /root/nltk_data...\n",
            "[nltk_data]    |   Package product_reviews_1 is already up-to-date!\n",
            "[nltk_data]    | Downloading package product_reviews_2 to\n",
            "[nltk_data]    |     /root/nltk_data...\n",
            "[nltk_data]    |   Package product_reviews_2 is already up-to-date!\n",
            "[nltk_data]    | Downloading package propbank to /root/nltk_data...\n",
            "[nltk_data]    |   Package propbank is already up-to-date!\n",
            "[nltk_data]    | Downloading package pros_cons to /root/nltk_data...\n",
            "[nltk_data]    |   Package pros_cons is already up-to-date!\n",
            "[nltk_data]    | Downloading package ptb to /root/nltk_data...\n",
            "[nltk_data]    |   Package ptb is already up-to-date!\n",
            "[nltk_data]    | Downloading package punkt to /root/nltk_data...\n",
            "[nltk_data]    |   Package punkt is already up-to-date!\n",
            "[nltk_data]    | Downloading package punkt_tab to /root/nltk_data...\n",
            "[nltk_data]    |   Package punkt_tab is already up-to-date!\n",
            "[nltk_data]    | Downloading package qc to /root/nltk_data...\n",
            "[nltk_data]    |   Package qc is already up-to-date!\n",
            "[nltk_data]    | Downloading package reuters to /root/nltk_data...\n",
            "[nltk_data]    |   Package reuters is already up-to-date!\n",
            "[nltk_data]    | Downloading package rslp to /root/nltk_data...\n",
            "[nltk_data]    |   Package rslp is already up-to-date!\n",
            "[nltk_data]    | Downloading package rte to /root/nltk_data...\n",
            "[nltk_data]    |   Package rte is already up-to-date!\n",
            "[nltk_data]    | Downloading package sample_grammars to\n",
            "[nltk_data]    |     /root/nltk_data...\n",
            "[nltk_data]    |   Package sample_grammars is already up-to-date!\n",
            "[nltk_data]    | Downloading package semcor to /root/nltk_data...\n",
            "[nltk_data]    |   Package semcor is already up-to-date!\n",
            "[nltk_data]    | Downloading package senseval to /root/nltk_data...\n",
            "[nltk_data]    |   Package senseval is already up-to-date!\n",
            "[nltk_data]    | Downloading package sentence_polarity to\n",
            "[nltk_data]    |     /root/nltk_data...\n",
            "[nltk_data]    |   Package sentence_polarity is already up-to-date!\n",
            "[nltk_data]    | Downloading package sentiwordnet to\n",
            "[nltk_data]    |     /root/nltk_data...\n",
            "[nltk_data]    |   Package sentiwordnet is already up-to-date!\n",
            "[nltk_data]    | Downloading package shakespeare to /root/nltk_data...\n",
            "[nltk_data]    |   Package shakespeare is already up-to-date!\n",
            "[nltk_data]    | Downloading package sinica_treebank to\n",
            "[nltk_data]    |     /root/nltk_data...\n",
            "[nltk_data]    |   Package sinica_treebank is already up-to-date!\n",
            "[nltk_data]    | Downloading package smultron to /root/nltk_data...\n",
            "[nltk_data]    |   Package smultron is already up-to-date!\n",
            "[nltk_data]    | Downloading package snowball_data to\n",
            "[nltk_data]    |     /root/nltk_data...\n",
            "[nltk_data]    |   Package snowball_data is already up-to-date!\n",
            "[nltk_data]    | Downloading package spanish_grammars to\n",
            "[nltk_data]    |     /root/nltk_data...\n",
            "[nltk_data]    |   Package spanish_grammars is already up-to-date!\n",
            "[nltk_data]    | Downloading package state_union to /root/nltk_data...\n",
            "[nltk_data]    |   Package state_union is already up-to-date!\n",
            "[nltk_data]    | Downloading package stopwords to /root/nltk_data...\n",
            "[nltk_data]    |   Package stopwords is already up-to-date!\n",
            "[nltk_data]    | Downloading package subjectivity to\n",
            "[nltk_data]    |     /root/nltk_data...\n",
            "[nltk_data]    |   Package subjectivity is already up-to-date!\n",
            "[nltk_data]    | Downloading package swadesh to /root/nltk_data...\n",
            "[nltk_data]    |   Package swadesh is already up-to-date!\n",
            "[nltk_data]    | Downloading package switchboard to /root/nltk_data...\n",
            "[nltk_data]    |   Package switchboard is already up-to-date!\n",
            "[nltk_data]    | Downloading package tagsets to /root/nltk_data...\n",
            "[nltk_data]    |   Package tagsets is already up-to-date!\n",
            "[nltk_data]    | Downloading package tagsets_json to\n",
            "[nltk_data]    |     /root/nltk_data...\n",
            "[nltk_data]    |   Package tagsets_json is already up-to-date!\n",
            "[nltk_data]    | Downloading package timit to /root/nltk_data...\n",
            "[nltk_data]    |   Package timit is already up-to-date!\n",
            "[nltk_data]    | Downloading package toolbox to /root/nltk_data...\n",
            "[nltk_data]    |   Package toolbox is already up-to-date!\n",
            "[nltk_data]    | Downloading package treebank to /root/nltk_data...\n",
            "[nltk_data]    |   Package treebank is already up-to-date!\n",
            "[nltk_data]    | Downloading package twitter_samples to\n",
            "[nltk_data]    |     /root/nltk_data...\n",
            "[nltk_data]    |   Package twitter_samples is already up-to-date!\n",
            "[nltk_data]    | Downloading package udhr to /root/nltk_data...\n",
            "[nltk_data]    |   Package udhr is already up-to-date!\n",
            "[nltk_data]    | Downloading package udhr2 to /root/nltk_data...\n",
            "[nltk_data]    |   Package udhr2 is already up-to-date!\n",
            "[nltk_data]    | Downloading package unicode_samples to\n",
            "[nltk_data]    |     /root/nltk_data...\n",
            "[nltk_data]    |   Package unicode_samples is already up-to-date!\n",
            "[nltk_data]    | Downloading package universal_tagset to\n",
            "[nltk_data]    |     /root/nltk_data...\n",
            "[nltk_data]    |   Package universal_tagset is already up-to-date!\n",
            "[nltk_data]    | Downloading package universal_treebanks_v20 to\n",
            "[nltk_data]    |     /root/nltk_data...\n",
            "[nltk_data]    |   Package universal_treebanks_v20 is already up-to-\n",
            "[nltk_data]    |       date!\n",
            "[nltk_data]    | Downloading package vader_lexicon to\n",
            "[nltk_data]    |     /root/nltk_data...\n",
            "[nltk_data]    |   Package vader_lexicon is already up-to-date!\n",
            "[nltk_data]    | Downloading package verbnet to /root/nltk_data...\n",
            "[nltk_data]    |   Package verbnet is already up-to-date!\n",
            "[nltk_data]    | Downloading package verbnet3 to /root/nltk_data...\n",
            "[nltk_data]    |   Package verbnet3 is already up-to-date!\n",
            "[nltk_data]    | Downloading package webtext to /root/nltk_data...\n",
            "[nltk_data]    |   Package webtext is already up-to-date!\n",
            "[nltk_data]    | Downloading package wmt15_eval to /root/nltk_data...\n",
            "[nltk_data]    |   Package wmt15_eval is already up-to-date!\n",
            "[nltk_data]    | Downloading package word2vec_sample to\n",
            "[nltk_data]    |     /root/nltk_data...\n",
            "[nltk_data]    |   Package word2vec_sample is already up-to-date!\n",
            "[nltk_data]    | Downloading package wordnet to /root/nltk_data...\n",
            "[nltk_data]    |   Package wordnet is already up-to-date!\n",
            "[nltk_data]    | Downloading package wordnet2021 to /root/nltk_data...\n",
            "[nltk_data]    |   Package wordnet2021 is already up-to-date!\n",
            "[nltk_data]    | Downloading package wordnet2022 to /root/nltk_data...\n",
            "[nltk_data]    |   Package wordnet2022 is already up-to-date!\n",
            "[nltk_data]    | Downloading package wordnet31 to /root/nltk_data...\n",
            "[nltk_data]    |   Package wordnet31 is already up-to-date!\n",
            "[nltk_data]    | Downloading package wordnet_ic to /root/nltk_data...\n",
            "[nltk_data]    |   Package wordnet_ic is already up-to-date!\n",
            "[nltk_data]    | Downloading package words to /root/nltk_data...\n",
            "[nltk_data]    |   Package words is already up-to-date!\n",
            "[nltk_data]    | Downloading package ycoe to /root/nltk_data...\n",
            "[nltk_data]    |   Package ycoe is already up-to-date!\n",
            "[nltk_data]    | \n",
            "[nltk_data]  Done downloading collection all\n"
          ]
        },
        {
          "output_type": "execute_result",
          "data": {
            "text/plain": [
              "True"
            ]
          },
          "metadata": {},
          "execution_count": 128
        }
      ]
    },
    {
      "cell_type": "markdown",
      "source": [
        "##Cosine Similarity"
      ],
      "metadata": {
        "id": "VUVPV6cewlX1"
      }
    },
    {
      "cell_type": "code",
      "source": [
        "from sklearn.feature_extraction.text import TfidfVectorizer\n",
        "from sklearn.metrics.pairwise import cosine_similarity\n",
        "\n",
        "def cosSim(query, documentList):\n",
        "\n",
        "    # Preprocess the query and documents\n",
        "    tokenized_query = preProcess(query)  # Ensure preProcess returns meaningful tokens\n",
        "    tokenized_docList = [preProcess(inaugural.raw(doc)) for doc in documentList]  # Preprocess document content\n",
        "\n",
        "    # Initialize the TF-IDF vectorizer\n",
        "    vectorizer = TfidfVectorizer()\n",
        "\n",
        "    # Combine the query and documents into a single list of space-separated strings\n",
        "    all_docs = [' '.join(tokenized_query)] + [' '.join(doc) for doc in tokenized_docList]\n",
        "\n",
        "    # Fit the vectorizer and transform into TF-IDF vectors\n",
        "    tfidf_matrix = vectorizer.fit_transform(all_docs)\n",
        "\n",
        "    # Get the query vector (first row) and document vectors (remaining rows)\n",
        "    query_vector = tfidf_matrix[0]  # The first vector corresponds to the query\n",
        "    doc_vectors = tfidf_matrix[1:]  # The rest correspond to the documents\n",
        "\n",
        "    # Compute cosine similarity between the query and each document\n",
        "    similarities = cosine_similarity(query_vector, doc_vectors).flatten()\n",
        "\n",
        "    # Pair each document with its respective similarity score\n",
        "    doc_scores = list(zip(documentList, similarities))\n",
        "\n",
        "    # Sort the documents by their similarity scores in descending order\n",
        "    sorted_doc_scores = sorted(doc_scores, key=lambda x: x[1], reverse=True)\n",
        "\n",
        "    return sorted_doc_scores\n"
      ],
      "metadata": {
        "id": "fB1Nak7Q8ybA"
      },
      "execution_count": 129,
      "outputs": []
    },
    {
      "cell_type": "code",
      "source": [
        "print(cosSim(Query_1,docList1))\n",
        "print(\"\\n\")\n",
        "print(cosSim(Query_2,docList2))\n",
        "print(\"\\n)\")\n",
        "print(cosSim(Query_3,docList3))\n",
        "print(\"\\n)\")"
      ],
      "metadata": {
        "colab": {
          "base_uri": "https://localhost:8080/"
        },
        "id": "nl44TpOp3_6I",
        "outputId": "4622e9af-e267-4def-81a6-eea69a7be0bf"
      },
      "execution_count": 130,
      "outputs": [
        {
          "output_type": "stream",
          "name": "stdout",
          "text": [
            "[('1929-Hoover.txt', 0.06557755153606054), ('1949-Truman.txt', 0.05988859735919958), ('1909-Taft.txt', 0.05555297475594834), ('1985-Reagan.txt', 0.05083523572979329), ('1921-Harding.txt', 0.0508045142590452), ('1925-Coolidge.txt', 0.050502728238718445), ('1981-Reagan.txt', 0.04979102301979427), ('1897-McKinley.txt', 0.04252545400911965), ('1953-Eisenhower.txt', 0.04080788142341073), ('1889-Harrison.txt', 0.03989617863812912), ('1933-Roosevelt.txt', 0.031989902113003205), ('2005-Bush.txt', 0.028092525639517956), ('1809-Madison.txt', 0.02487790435779317), ('1881-Garfield.txt', 0.02339821574149669), ('1957-Eisenhower.txt', 0.021048730874658653), ('1913-Wilson.txt', 0.018932202091797086), ('1817-Monroe.txt', 0.018911910245236193), ('1853-Pierce.txt', 0.01690795124577483), ('1857-Buchanan.txt', 0.016757017291487923), ('1893-Cleveland.txt', 0.01556535960817294), ('1841-Harrison.txt', 0.007112597008058642)]\n",
            "\n",
            "\n",
            "[('1949-Truman.txt', 0.0812118936532361), ('1985-Reagan.txt', 0.07375126805998652), ('1825-Adams.txt', 0.07151300438984576), ('1817-Monroe.txt', 0.066949357622232), ('1853-Pierce.txt', 0.05745991613708422), ('1829-Jackson.txt', 0.05729297199951344), ('1889-Harrison.txt', 0.05665995739130175), ('1921-Harding.txt', 0.05425506329990066), ('1893-Cleveland.txt', 0.04882661033450031), ('1821-Monroe.txt', 0.047052367166284526), ('1861-Lincoln.txt', 0.04694430743402973), ('1953-Eisenhower.txt', 0.04692818442880635), ('1941-Roosevelt.txt', 0.04603241581512909), ('1901-McKinley.txt', 0.04296306274087486), ('2013-Obama.txt', 0.042389075504861345), ('1797-Adams.txt', 0.04133437483297171), ('1909-Taft.txt', 0.04092897890789653), ('1869-Grant.txt', 0.03800892518383913), ('1981-Reagan.txt', 0.03782575271747048), ('1885-Cleveland.txt', 0.0369006108929822), ('1925-Coolidge.txt', 0.03370822986234359), ('1857-Buchanan.txt', 0.03354588380623966), ('1929-Hoover.txt', 0.032859872976740784), ('2001-Bush.txt', 0.03210390762851093), ('2005-Bush.txt', 0.02854678311053014), ('1813-Madison.txt', 0.02640891939906697), ('1957-Eisenhower.txt', 0.02516230862526828), ('2009-Obama.txt', 0.02431414818306712), ('1845-Polk.txt', 0.017995718033244273), ('1837-VanBuren.txt', 0.01723646264606177), ('1789-Washington.txt', 0.017090427672764173), ('1841-Harrison.txt', 0.015437065712727668), ('2021-Biden.txt', 0.014816977326441598), ('1997-Clinton.txt', 0.013446147188439058), ('1937-Roosevelt.txt', 0.01335353456547451)]\n",
            "\n",
            ")\n",
            "[('2017-Trump.txt', 0.21478972706797422), ('1993-Clinton.txt', 0.14372301928776476), ('1973-Nixon.txt', 0.13297703548020318), ('2021-Biden.txt', 0.1304921617367261), ('2005-Bush.txt', 0.12014291320480218), ('2001-Bush.txt', 0.11780290158541666), ('2009-Obama.txt', 0.10917702690884881), ('2013-Obama.txt', 0.10651926362899744), ('1985-Reagan.txt', 0.1039021393777137), ('1997-Clinton.txt', 0.09913578350159762), ('1989-Bush.txt', 0.08729285404847459), ('1921-Harding.txt', 0.07770145357452037), ('1981-Reagan.txt', 0.07393576400129431), ('1945-Roosevelt.txt', 0.07096226404147876), ('1969-Nixon.txt', 0.06547560993060561), ('1941-Roosevelt.txt', 0.05765982096125754), ('1965-Johnson.txt', 0.04248170830921419), ('1953-Eisenhower.txt', 0.038705276865218866), ('1957-Eisenhower.txt', 0.037942653525641905), ('1961-Kennedy.txt', 0.03478469554813576), ('1929-Hoover.txt', 0.0319310829133683), ('1925-Coolidge.txt', 0.03045241046078738), ('1917-Wilson.txt', 0.028787232249895864), ('1881-Garfield.txt', 0.02681130442585884), ('1977-Carter.txt', 0.02416097372744148), ('1901-McKinley.txt', 0.02082838945816457), ('1937-Roosevelt.txt', 0.017739606471802383), ('1857-Buchanan.txt', 0.01593900600713274), ('1909-Taft.txt', 0.012486429546319396), ('1837-VanBuren.txt', 0.010322924170322531), ('1821-Monroe.txt', 0.00833610542813016)]\n",
            "\n",
            ")\n"
          ]
        }
      ]
    },
    {
      "cell_type": "markdown",
      "source": [
        "#4. For each similarity method, and each query, compute the precision in the following way: Read the text of the first 3 addresses in the ranked list for each query. Using your own judgement, rate each text as either relevant or irrelevant to the query. Count how many you rated relevant and divide it by three. This is the precision:\n",
        "\n",
        "# Precision(query_x, method_y) = relevant texts / first 3 ranked docs"
      ],
      "metadata": {
        "id": "1ur2OgvKs991"
      }
    },
    {
      "cell_type": "markdown",
      "source": [
        "* Reagan 85\n",
        " * national security defense\n",
        "   * Relevance: Relevant\n",
        "  * god bless america\n",
        "   * Relevance: Relevant\n",
        "* Hoover\n",
        "  * economic growth policy\n",
        "   * Relevance: Not Relevant\n",
        "* Taft\n",
        "  * economic growth policy\n",
        "   * Relevance: Relevant\n",
        "* Truman\n",
        "  * economic growth policy\n",
        "   * Relevance: Relevant\n",
        "  * national security defense\n",
        "   * Relevance: Relevant\n",
        "* Adams\n",
        "  * national security defense\n",
        "   * Relevance: Relevant\n",
        "* Trump\n",
        "  * god bless america\n",
        "   * Relevance: Relevant\n",
        "* Bush\n",
        "  * god bless america\n",
        "   * Relevance: Relevant\n",
        "* Clinton\n",
        "  * god bless america\n",
        "   * Relevance: Relevant\n",
        "* Nixon\n",
        "  * god bless america:\n",
        "   * Relevance: Not Relevant\n"
      ],
      "metadata": {
        "id": "eMW8kCCi8lwQ"
      }
    },
    {
      "cell_type": "markdown",
      "source": [
        "\n",
        "## Display the precision values for each query and each method."
      ],
      "metadata": {
        "id": "mVufxub2UHxY"
      }
    },
    {
      "cell_type": "code",
      "source": [
        "print(f\"Precision for Query 1, {Query_1}, on BM25: {2/3}\")\n",
        "print(f\"Precision for Query 1, {Query_1}, on Cosine Similarity: {2/3}\")\n",
        "\n",
        "print(\"\\n\")\n",
        "\n",
        "print(f\"Precision for Query 2, {Query_2}, on BM25: {3/3} \")\n",
        "print(f\"Precision for Query 2, {Query_2}, on Cosine Similarity: {3/3}\")\n",
        "\n",
        "print(\"\\n\")\n",
        "\n",
        "print(f\"Precision for Query 3, {Query_3}, on BM25: {3/3} \")\n",
        "print(f\"Precision for Query 3, {Query_3}, on Cosine Similarity: {2/3}\")"
      ],
      "metadata": {
        "colab": {
          "base_uri": "https://localhost:8080/"
        },
        "id": "5Zl-HhuL_ZxW",
        "outputId": "035dec02-80be-4274-f62f-15dcf53bcd44"
      },
      "execution_count": 131,
      "outputs": [
        {
          "output_type": "stream",
          "name": "stdout",
          "text": [
            "Precision for Query 1, economic growth policy, on BM25: 0.6666666666666666\n",
            "Precision for Query 1, economic growth policy, on Cosine Similarity: 0.6666666666666666\n",
            "\n",
            "\n",
            "Precision for Query 2, national security defense, on BM25: 1.0 \n",
            "Precision for Query 2, national security defense, on Cosine Similarity: 1.0\n",
            "\n",
            "\n",
            "Precision for Query 3, god bless america, on BM25: 1.0 \n",
            "Precision for Query 3, god bless america, on Cosine Similarity: 0.6666666666666666\n"
          ]
        }
      ]
    },
    {
      "cell_type": "markdown",
      "source": [
        "# 5. Add length normalization to your methods. First, compute the length of the collection of speeches, then find the max, min, average, and standard deviation. Then choose the parameters of your length normalization method according to these values."
      ],
      "metadata": {
        "id": "5OC1liaetI1f"
      }
    },
    {
      "cell_type": "markdown",
      "source": [
        "## Compute the similarity between each query and the collection using length normalization in your methods.\n"
      ],
      "metadata": {
        "id": "PCe5ySSbzTGz"
      }
    },
    {
      "cell_type": "markdown",
      "source": [],
      "metadata": {
        "id": "1nLV5kFMBm3u"
      }
    },
    {
      "cell_type": "code",
      "source": [
        "#from os import ST_RDONLY\n",
        "import statistics\n",
        "\n",
        "#find the length of each speech, and put it into a list\n",
        "def lengthCollection(docList):\n",
        "  lengthList = []\n",
        "  for doc in docList:\n",
        "    doc_tokenized = preProcess(inaugural.raw(doc)) #inaugural.words(doc)\n",
        "    lengthList.append(len(doc_tokenized))\n",
        "  return lengthList\n",
        "\n",
        "#find the max, min, and stdv\n",
        "lengthList = lengthCollection(list_fnames)\n",
        "max_length = max(lengthList)\n",
        "min_length = min(lengthList)\n",
        "avg_length = sum(lengthList) / len(lengthList)\n",
        "std_dev = statistics.stdev(lengthList)\n",
        "\n",
        "print(f\"max_length: {max_length}\")\n",
        "print(f\"min_length: {min_length}\")\n",
        "print(f\"avg_length: {avg_length}\")\n",
        "print(f\"std_dev: {std_dev}\")"
      ],
      "metadata": {
        "id": "dGf9hlDrzkRI",
        "colab": {
          "base_uri": "https://localhost:8080/"
        },
        "outputId": "f8e0748e-a95f-4d7e-e932-8eb54c8efaaf"
      },
      "execution_count": 132,
      "outputs": [
        {
          "output_type": "stream",
          "name": "stdout",
          "text": [
            "max_length: 3322\n",
            "min_length: 56\n",
            "avg_length: 993.9491525423729\n",
            "std_dev: 569.7383980368054\n"
          ]
        }
      ]
    },
    {
      "cell_type": "markdown",
      "source": [
        "## Cosine Normalized"
      ],
      "metadata": {
        "id": "FeoG2j4R2EVT"
      }
    },
    {
      "cell_type": "code",
      "source": [
        "from sklearn.feature_extraction.text import TfidfVectorizer\n",
        "from sklearn.metrics.pairwise import cosine_similarity\n",
        "import numpy as np\n",
        "\n",
        "def normalize_by_mean_length(vectors, lengths, mean_length):\n",
        "    \"\"\"\n",
        "    Normalize each document vector by dividing by the mean length.\n",
        "    \"\"\"\n",
        "    normalized_vectors = vectors / mean_length  # Element-wise division by mean length\n",
        "    return normalized_vectors\n",
        "\n",
        "def normalize_by_std_dev(vectors, lengths, mean_length, std_dev):\n",
        "    \"\"\"\n",
        "    Normalize document length by Z-score (subtract mean and divide by standard deviation).\n",
        "    \"\"\"\n",
        "    normalized_lengths = (lengths - mean_length) / std_dev\n",
        "    return vectors / normalized_lengths[:, np.newaxis]\n",
        "\n",
        "def cosSimNormal(query, documentList, normalization='mean'):\n",
        "    # Preprocess the query and documents\n",
        "    tokenized_query = preProcess(query)  # Ensure preProcess returns meaningful tokens\n",
        "    tokenized_docList = [preProcess(inaugural.raw(doc)) for doc in documentList]  # Preprocess document content\n",
        "\n",
        "    # Initialize the TF-IDF vectorizer\n",
        "    vectorizer = TfidfVectorizer()\n",
        "\n",
        "    # Combine the query and documents into a single list of space-separated strings\n",
        "    all_docs = [' '.join(tokenized_query)] + [' '.join(doc) for doc in tokenized_docList]\n",
        "\n",
        "    # Fit the vectorizer and transform into TF-IDF vectors\n",
        "    tfidf_matrix = vectorizer.fit_transform(all_docs).toarray()  # Convert sparse matrix to dense array\n",
        "\n",
        "    # Compute the length of each document (number of terms)\n",
        "    doc_lengths = np.array([len(doc.split()) for doc in all_docs])\n",
        "\n",
        "    # Calculate max, mean, and std dev for document lengths\n",
        "    max_length = np.max(doc_lengths)\n",
        "    mean_length = np.mean(doc_lengths)\n",
        "    std_dev = np.std(doc_lengths)\n",
        "\n",
        "    # Apply chosen normalization\n",
        "    if normalization == 'mean':\n",
        "        tfidf_matrix_normalized = normalize_by_mean_length(tfidf_matrix, doc_lengths, mean_length)\n",
        "    elif normalization == 'std_dev':\n",
        "        tfidf_matrix_normalized = normalize_by_std_dev(tfidf_matrix, doc_lengths, mean_length, std_dev)\n",
        "    # Add other normalization methods as needed, like max or min-max scaling\n",
        "\n",
        "    # Get the query vector (first row) and document vectors (remaining rows)\n",
        "    query_vector = tfidf_matrix_normalized[0]  # The first vector corresponds to the query\n",
        "    doc_vectors = tfidf_matrix_normalized[1:]  # The rest correspond to the documents\n",
        "\n",
        "    # Compute cosine similarity between the query and each document\n",
        "    similarities = cosine_similarity(query_vector.reshape(1, -1), doc_vectors).flatten()\n",
        "\n",
        "    # Pair each document with its respective similarity score\n",
        "    doc_scores = list(zip(documentList, similarities))\n",
        "\n",
        "    # Sort the documents by their similarity scores in descending order\n",
        "    sorted_doc_scores = sorted(doc_scores, key=lambda x: x[1], reverse=True)\n",
        "\n",
        "    return sorted_doc_scores\n"
      ],
      "metadata": {
        "id": "Xs7XAfxbL4_x"
      },
      "execution_count": 133,
      "outputs": []
    },
    {
      "cell_type": "code",
      "source": [
        "print(cosSimNormal(Query_1,docList1))\n",
        "print(\"\\n\")\n",
        "print(cosSimNormal(Query_2,docList2))\n",
        "print(\"\\n)\")\n",
        "print(cosSimNormal(Query_3,docList3))\n",
        "print(\"\\n)\")"
      ],
      "metadata": {
        "colab": {
          "base_uri": "https://localhost:8080/"
        },
        "id": "f1OHGixJOiHt",
        "outputId": "dd5f96da-3448-4f30-87bd-d179c29122ff"
      },
      "execution_count": 134,
      "outputs": [
        {
          "output_type": "stream",
          "name": "stdout",
          "text": [
            "[('1929-Hoover.txt', 0.06557755153606029), ('1949-Truman.txt', 0.05988859735919968), ('1909-Taft.txt', 0.05555297475594809), ('1985-Reagan.txt', 0.05083523572979303), ('1921-Harding.txt', 0.05080451425904531), ('1925-Coolidge.txt', 0.050502728238718264), ('1981-Reagan.txt', 0.04979102301979425), ('1897-McKinley.txt', 0.042525454009119744), ('1953-Eisenhower.txt', 0.0408078814234108), ('1889-Harrison.txt', 0.03989617863812901), ('1933-Roosevelt.txt', 0.031989902113003184), ('2005-Bush.txt', 0.028092525639518015), ('1809-Madison.txt', 0.02487790435779314), ('1881-Garfield.txt', 0.02339821574149676), ('1957-Eisenhower.txt', 0.02104873087465868), ('1913-Wilson.txt', 0.0189322020917971), ('1817-Monroe.txt', 0.018911910245236193), ('1853-Pierce.txt', 0.016907951245774877), ('1857-Buchanan.txt', 0.01675701729148787), ('1893-Cleveland.txt', 0.01556535960817294), ('1841-Harrison.txt', 0.007112597008058601)]\n",
            "\n",
            "\n",
            "[('1949-Truman.txt', 0.08121189365323606), ('1985-Reagan.txt', 0.07375126805998654), ('1825-Adams.txt', 0.07151300438984569), ('1817-Monroe.txt', 0.06694935762223175), ('1853-Pierce.txt', 0.057459916137084316), ('1829-Jackson.txt', 0.05729297199951348), ('1889-Harrison.txt', 0.05665995739130163), ('1921-Harding.txt', 0.054255063299900715), ('1893-Cleveland.txt', 0.04882661033450025), ('1821-Monroe.txt', 0.047052367166284456), ('1861-Lincoln.txt', 0.04694430743402974), ('1953-Eisenhower.txt', 0.046928184428806446), ('1941-Roosevelt.txt', 0.04603241581512909), ('1901-McKinley.txt', 0.04296306274087484), ('2013-Obama.txt', 0.042389075504861304), ('1797-Adams.txt', 0.04133437483297171), ('1909-Taft.txt', 0.04092897890789654), ('1869-Grant.txt', 0.03800892518383914), ('1981-Reagan.txt', 0.03782575271747044), ('1885-Cleveland.txt', 0.036900610892982216), ('1925-Coolidge.txt', 0.03370822986234348), ('1857-Buchanan.txt', 0.033545883806239754), ('1929-Hoover.txt', 0.03285987297674078), ('2001-Bush.txt', 0.03210390762851094), ('2005-Bush.txt', 0.028546783110530147), ('1813-Madison.txt', 0.02640891939906697), ('1957-Eisenhower.txt', 0.025162308625268227), ('2009-Obama.txt', 0.024314148183067107), ('1845-Polk.txt', 0.01799571803324421), ('1837-VanBuren.txt', 0.01723646264606176), ('1789-Washington.txt', 0.017090427672764197), ('1841-Harrison.txt', 0.01543706571272769), ('2021-Biden.txt', 0.014816977326441598), ('1997-Clinton.txt', 0.01344614718843904), ('1937-Roosevelt.txt', 0.013353534565474518)]\n",
            "\n",
            ")\n",
            "[('2017-Trump.txt', 0.21478972706797406), ('1993-Clinton.txt', 0.14372301928776468), ('1973-Nixon.txt', 0.13297703548020323), ('2021-Biden.txt', 0.13049216173672606), ('2005-Bush.txt', 0.1201429132048023), ('2001-Bush.txt', 0.11780290158541659), ('2009-Obama.txt', 0.10917702690884917), ('2013-Obama.txt', 0.1065192636289973), ('1985-Reagan.txt', 0.10390213937771378), ('1997-Clinton.txt', 0.09913578350159777), ('1989-Bush.txt', 0.08729285404847434), ('1921-Harding.txt', 0.07770145357451996), ('1981-Reagan.txt', 0.07393576400129448), ('1945-Roosevelt.txt', 0.07096226404147875), ('1969-Nixon.txt', 0.06547560993060556), ('1941-Roosevelt.txt', 0.05765982096125746), ('1965-Johnson.txt', 0.04248170830921416), ('1953-Eisenhower.txt', 0.03870527686521896), ('1957-Eisenhower.txt', 0.03794265352564198), ('1961-Kennedy.txt', 0.034784695548135784), ('1929-Hoover.txt', 0.03193108291336833), ('1925-Coolidge.txt', 0.030452410460787366), ('1917-Wilson.txt', 0.02878723224989585), ('1881-Garfield.txt', 0.02681130442585876), ('1977-Carter.txt', 0.02416097372744147), ('1901-McKinley.txt', 0.020828389458164585), ('1937-Roosevelt.txt', 0.017739606471802397), ('1857-Buchanan.txt', 0.01593900600713273), ('1909-Taft.txt', 0.012486429546319391), ('1837-VanBuren.txt', 0.010322924170322512), ('1821-Monroe.txt', 0.008336105428130168)]\n",
            "\n",
            ")\n"
          ]
        }
      ]
    },
    {
      "cell_type": "code",
      "source": [],
      "metadata": {
        "id": "I-Yl0lhm2kIS"
      },
      "execution_count": 134,
      "outputs": []
    },
    {
      "cell_type": "markdown",
      "source": [
        "##BM25 With Normalization"
      ],
      "metadata": {
        "id": "F7A_khvZ2T_m"
      }
    },
    {
      "cell_type": "code",
      "source": [
        "import numpy as np\n",
        "\n",
        "# term frequency function for TF-IDF\n",
        "def tf_func(tf_freq_doc):\n",
        "    return np.log(tf_freq_doc + 1)\n",
        "\n",
        "# inverse document frequency function\n",
        "def idf_func(tf_doc_freq, nr_docs):\n",
        "    return np.log((nr_docs + 1) / tf_doc_freq)\n"
      ],
      "metadata": {
        "id": "KSUWZrHf224B"
      },
      "execution_count": 135,
      "outputs": []
    },
    {
      "cell_type": "code",
      "source": [
        "# BM25 parameters\n",
        "k1 = 1.5 # controls influence of term frequency on rank score\n",
        "b = 0.75 # controls degree of document length normalization\n",
        "avg_doc_len = sum([len(preProcess(doc)) for doc in list_docs]) / len(list_docs)\n",
        "\n",
        "def bm25_tf_func(tf_freq_doc, doc_len, avg_doc_len, k1, b): # BM25 term frequency function\n",
        "    return (tf_freq_doc * (k1 + 1)) / (tf_freq_doc + k1 * (1 - b + b * (doc_len / avg_doc_len)))"
      ],
      "metadata": {
        "id": "JGeUDu-x2rqX"
      },
      "execution_count": 136,
      "outputs": []
    },
    {
      "cell_type": "code",
      "source": [
        "# Computes TF-IDF similarity\n",
        "def tf_idf(query, dict_doc_freq, dict_term_freq, nr_docs):\n",
        "    tokens = preProcess(query) # processes query using the same NLP steps\n",
        "    tf_query = Counter(tokens)\n",
        "\n",
        "    sim_query_doc = {}  # doc_id: similarity value\n",
        "\n",
        "    for term_q, tf_term_q in tf_query.items(): # calculates similarity for each document containing query terms\n",
        "        if term_q in dict_term_freq:\n",
        "            for doc_id, tf_doc in dict_term_freq[term_q].items():\n",
        "                tf_doc_value = tf_func(tf_doc)\n",
        "                idf_value = idf_func(dict_doc_freq[term_q], nr_docs)\n",
        "                if doc_id in sim_query_doc:\n",
        "                    sim_query_doc[doc_id] += tf_term_q * tf_doc_value * idf_value\n",
        "                else:\n",
        "                    sim_query_doc[doc_id] = tf_term_q * tf_doc_value * idf_value\n",
        "\n",
        "    sorted_sim = dict(sorted(sim_query_doc.items(), key=lambda x: x[1], reverse=True)) # sorts the documents by similarity\n",
        "\n",
        "    return sorted_sim"
      ],
      "metadata": {
        "id": "BgLEKguJ2r-J"
      },
      "execution_count": 137,
      "outputs": []
    },
    {
      "cell_type": "code",
      "source": [
        "def bm25_ln(query, dict_doc_freq, dict_term_freq, nr_docs):\n",
        "    tokens = preProcess(query)  # processes query using the same NLP steps\n",
        "    tf_query = Counter(tokens)\n",
        "\n",
        "    sim_query_doc = {}  # doc_id: similarity value\n",
        "\n",
        "    for term_q, tf_term_q in tf_query.items():\n",
        "        if term_q in dict_term_freq:\n",
        "            for doc_id, tf_doc in dict_term_freq[term_q].items():\n",
        "                doc_len = len(preProcess(list_docs[doc_id]))\n",
        "                tf_doc_value = bm25_tf_func(tf_doc, doc_len, avg_doc_len, k1, b)\n",
        "                idf_value = idf_func(dict_doc_freq[term_q], nr_docs)\n",
        "\n",
        "                if doc_id in sim_query_doc:\n",
        "                    sim_query_doc[doc_id] += tf_term_q * tf_doc_value * idf_value\n",
        "                else:\n",
        "                    sim_query_doc[doc_id] = tf_term_q * tf_doc_value * idf_value\n",
        "\n",
        "    sorted_sim = dict(sorted(sim_query_doc.items(), key=lambda x: x[1], reverse=True))\n",
        "\n",
        "    return sorted_sim"
      ],
      "metadata": {
        "id": "_v2iSjHq2YZu"
      },
      "execution_count": 138,
      "outputs": []
    },
    {
      "cell_type": "code",
      "source": [
        "# retrieves the top 5 most similar documents for each query and similarity function\n",
        "def get_top_5_resultsDavid(query, sim_func, method_name):\n",
        "    print(f\"\\nMethod: {method_name}, Query: '{query}'\")\n",
        "    sorted_sim = sim_func(query, dict_doc_freq, dict_term_freq, len(list_docs))\n",
        "    top_5_docs = list(sorted_sim.items())[:5]  # Gets top 5\n",
        "    for doc_id, sim_value in top_5_docs:\n",
        "        print(f\"Document: {list_fnames[doc_id]}, Similarity: {sim_value}\")"
      ],
      "metadata": {
        "id": "NQ8gYvHw3JjS"
      },
      "execution_count": 139,
      "outputs": []
    },
    {
      "cell_type": "code",
      "source": [
        "def get_top_5_resultsDaniel(query,sim_func,doc_list):\n",
        "  print(f\"{query}:\")\n",
        "  return sim_func(query,doc_list)[:5]"
      ],
      "metadata": {
        "id": "DmRnxaO-Fd3x"
      },
      "execution_count": 140,
      "outputs": []
    },
    {
      "cell_type": "code",
      "source": [
        "queries = [\n",
        "    \"economic growth policy\",\n",
        "    \"national security defense\",\n",
        "    \"god bless america\"\n",
        "]\n",
        "\n",
        "docLists =[\n",
        "    docList1,\n",
        "    docList2,\n",
        "    docList3\n",
        "]"
      ],
      "metadata": {
        "id": "FuyTkQBb8u6r"
      },
      "execution_count": 141,
      "outputs": []
    },
    {
      "cell_type": "code",
      "source": [
        "# computes length-normalized similarity for each query\n",
        "for query in queries:\n",
        "    get_top_5_resultsDavid(query, bm25_ln, \"BM25 with Length Normalization\")\n",
        "print(\"\\nBM25 without Normalization:\")\n",
        "for query, docList in zip(queries, docLists):\n",
        "  print(get_top_5_resultsDaniel(query,BM25,docList))\n",
        "print(\"\\nCosine with Length Normalization:\")\n",
        "for query, docList in zip(queries, docLists):\n",
        "  print(get_top_5_resultsDaniel(query,cosSimNormal,docList))\n",
        "print(\"\\nCosine Without Normalization:\")\n",
        "for query, docList in zip(queries, docLists):\n",
        "  print(get_top_5_resultsDaniel(query,cosSim,docList))"
      ],
      "metadata": {
        "colab": {
          "base_uri": "https://localhost:8080/"
        },
        "id": "4iuxiwj63Cze",
        "outputId": "64ef4c97-6f56-4cca-fff4-8f20f4456619"
      },
      "execution_count": null,
      "outputs": [
        {
          "output_type": "stream",
          "name": "stdout",
          "text": [
            "\n",
            "Method: BM25 with Length Normalization, Query: 'economic growth policy'\n",
            "Document: 2005-Bush.txt, Similarity: 3.112858112654888\n",
            "Document: 1949-Truman.txt, Similarity: 2.947500570447289\n",
            "Document: 1957-Eisenhower.txt, Similarity: 2.8407067356116418\n",
            "Document: 1981-Reagan.txt, Similarity: 2.4582494741395444\n",
            "Document: 1929-Hoover.txt, Similarity: 2.4108844978274293\n",
            "\n",
            "Method: BM25 with Length Normalization, Query: 'national security defense'\n",
            "Document: 1941-Roosevelt.txt, Similarity: 2.3153965463514936\n",
            "Document: 2001-Bush.txt, Similarity: 2.1556574080385538\n",
            "Document: 2013-Obama.txt, Similarity: 1.9400739650749954\n",
            "Document: 1957-Eisenhower.txt, Similarity: 1.8244835024775117\n",
            "Document: 1949-Truman.txt, Similarity: 1.7969847563466097\n",
            "\n",
            "Method: BM25 with Length Normalization, Query: 'god bless america'\n",
            "Document: 1945-Roosevelt.txt, Similarity: 3.2379022720670356\n",
            "Document: 2017-Trump.txt, Similarity: 2.5321842925087528\n",
            "Document: 1993-Clinton.txt, Similarity: 2.4586840969493116\n",
            "Document: 2001-Bush.txt, Similarity: 2.453504721617017\n",
            "Document: 2013-Obama.txt, Similarity: 2.2081341013871425\n",
            "\n",
            "BM25 without Normalization:\n",
            "economic growth policy:\n",
            "[('1929-Hoover.txt', 2.4375133483866036), ('1909-Taft.txt', 2.031863469239845), ('1949-Truman.txt', 2.022562764637589), ('2005-Bush.txt', 1.8428023163837928), ('1921-Harding.txt', 1.7181354751407691)]\n",
            "national security defense:\n",
            "[('1949-Truman.txt', 3.261278435466696), ('1985-Reagan.txt', 3.0896473869156065), ('1825-Adams.txt', 3.027766974371089), ('1889-Harrison.txt', 2.8046107278665806), ('1941-Roosevelt.txt', 2.7818069701144372)]\n",
            "god bless america:\n",
            "[('2017-Trump.txt', 3.594246320502876), ('1985-Reagan.txt', 3.3634401890719827), ('2001-Bush.txt', 3.2501037153289785), ('2013-Obama.txt', 3.1963313705474867), ('2009-Obama.txt', 3.1535229902382103)]\n",
            "\n",
            "Cosine with Length Normalization:\n",
            "economic growth policy:\n",
            "[('1929-Hoover.txt', 0.06557755153606029), ('1949-Truman.txt', 0.05988859735919968), ('1909-Taft.txt', 0.05555297475594809), ('1985-Reagan.txt', 0.05083523572979303), ('1921-Harding.txt', 0.05080451425904531)]\n",
            "national security defense:\n",
            "[('1949-Truman.txt', 0.08121189365323606), ('1985-Reagan.txt', 0.07375126805998654), ('1825-Adams.txt', 0.07151300438984569), ('1817-Monroe.txt', 0.06694935762223175), ('1853-Pierce.txt', 0.057459916137084316)]\n",
            "god bless america:\n",
            "[('2017-Trump.txt', 0.21478972706797406), ('1993-Clinton.txt', 0.14372301928776468), ('1973-Nixon.txt', 0.13297703548020323), ('2021-Biden.txt', 0.13049216173672606), ('2005-Bush.txt', 0.1201429132048023)]\n",
            "\n",
            "Cosine Without Normalization:\n",
            "economic growth policy:\n",
            "[('1929-Hoover.txt', 0.06557755153606054), ('1949-Truman.txt', 0.05988859735919958), ('1909-Taft.txt', 0.05555297475594834), ('1985-Reagan.txt', 0.05083523572979329), ('1921-Harding.txt', 0.0508045142590452)]\n",
            "national security defense:\n"
          ]
        }
      ]
    },
    {
      "cell_type": "markdown",
      "source": [
        "## Discuss any changes you see to the top 5 for each query and method and the precision results. Did the results improve, stay the same, or worsen. Be specific."
      ],
      "metadata": {
        "id": "DNa9ttgDzaBb"
      }
    },
    {
      "cell_type": "markdown",
      "source": [
        "### After adding length normalization to both our BM25 and cosine similarity methods, we got a new set of documents as the top 5 for each query. Specifically, for our BM25 method when we ran it without length normalization the documents we got back as the top 5 for the query \"economic growth policy\" were Hoover, Taft, Truman, Bush, and Harding, and with length normalization added, the top 5 documents were instead Bush, Truman, Eisenhower, Reagan, and Hoover. The similarity results were much higher for the query using BM25 with length normalization than without, going from 2.3 all the way to 3.1 for the 1st document in the top 5 for the query. When we ran BM25 without length normalization for the query \"national security defense\" the top 5 documents we got back were Truman, Reagan, Adams, Harrison, and Roosevelt, and once we added length normalization the top 5 changed to Roosevelt, Bush, Obama, Eisenhower, and Truman. The similarity results were lower for the query using BM25 with length normalization than without, going from 3.26 all the way to 2.3 for the 1st document in the top 5 for the query. For our third query \"god bless america\", we found that using BM25 without length normalization gave back the top 5 documents as Trump, Reagan, Bush, Obama(2013), Obama(2009). Once we added length normalization, the top 5 for the query \"god bless america\" were Roosevelt, Trump, Clinton, Bush, and Obama(2013). The similarity results were much higher for the query using BM25 with length normalization than without, going from 3.59 all the way to 3.23 for the 1st document in the top 5 for the query. For our cosine similarity method the top 5 relevant documents did not change after length normalization, as the similarity results stayed the same so the top 5 for the query \"economic growth policy\" were Hoover, Truman, Taft, Reagan, and Harding. Using cosine similarity for the query \"national security defense\" gave us the top 5 documents as Truman, Reagan, Adams, Monroe, and Pierce. Additionally, using cosine similarity for the third query \"god bless america\" gave us the top 5 documents as Trump, Clinton, Nixon, Biden, and Bush. When it comes to the precision results that we got, the results we got for the BM25 results did worsen a bit as for the first query the precision result was 0.66 and after normalization it went down to 0.33, but other than that the precision results were consistent for the other 2 queries. With the cosine similarity method, the precision results did improve as the first query had a precision result of 0.66 and it went up to 1.0 after normalization, in which the precision results stayed consistent for the other 2 queries."
      ],
      "metadata": {
        "id": "NU1CJffxAa9z"
      }
    },
    {
      "cell_type": "markdown",
      "source": [
        "#Cosine Mean\n",
        "##The results stayed Mostly the same"
      ],
      "metadata": {
        "id": "3ForVQKARIJX"
      }
    },
    {
      "cell_type": "markdown",
      "source": [
        "#Cosine Std_dev\n",
        "\n",
        "##I got an entirely new set of documents"
      ],
      "metadata": {
        "id": "hoSUbL6vSE0Q"
      }
    },
    {
      "cell_type": "markdown",
      "source": [
        "* Reagan 81\n",
        " * national security defense\n",
        "   * Relevance: Relevant\n",
        "* Reagan 85\n",
        " * national security defense\n",
        "   * Relevance: Relevant\n",
        " * economic growth policy\n",
        "   * Relevence: Relevant\n",
        "* Truman\n",
        "  * economic growth policy\n",
        "   * Relevance: Relevant\n",
        "  * national security defense\n",
        "   * Relevance: Relevant\n",
        "* Jackson\n",
        "  * national security defense\n",
        "   * Relevance: Relevent\n",
        "* Trump\n",
        "  * god bless america\n",
        "   * Relevance: Relevant\n",
        "* Clinton\n",
        "  * god bless america\n",
        "   * Relevance: Relevant\n",
        "* Nixon\n",
        "  * god bless america:\n",
        "   * Relevance: Not Relevant"
      ],
      "metadata": {
        "id": "bDzBBPTvSnbS"
      }
    },
    {
      "cell_type": "markdown",
      "source": [
        "#BM25 Mean\n",
        "\n",
        "##I got an entirely new set of documents"
      ],
      "metadata": {
        "id": "pHGBV8jO-XSZ"
      }
    },
    {
      "cell_type": "markdown",
      "source": [
        "# 6. Compare and discuss the precision results you obtained with the two TF-IDF similarity functions you used with and without length normalization. Which method gave you better results and why."
      ],
      "metadata": {
        "id": "aaj99xDKtU8_"
      }
    },
    {
      "cell_type": "code",
      "source": [
        "print(\"Without Normalization \\n\")\n",
        "\n",
        "print(f\"Precision for Query 1, {Query_1}, on Cosine Similarity: {2/3} \\n\")\n",
        "print(f\"Precision for Query 1, {Query_1}, on BM25 Similarity: {2/3} \\n\")\n",
        "\n",
        "print(f\"Precision for Query 2, {Query_2}, on Cosine Similarity: {3/3} \\n\")\n",
        "print(f\"Precision for Query 2, {Query_2}, on BM25 Similarity: {3/3} \\n\")\n",
        "\n",
        "print(f\"Precision for Query 3, {Query_3}, on Cosine Similarity: {2/3} \\n\")\n",
        "print(f\"Precision for Query 3, {Query_3}, on BM25 Similarity: {3/3} \\n\")\n",
        "\n",
        "print(\"With Normalization \\n\")\n",
        "\n",
        "print(f\"Precision for Query 1, {Query_1}, on Cosine Similarity: {3/3} \\n\")\n",
        "print(f\"Precision for Query 1, {Query_1}, on BM25 Similarity: {1/3} \\n\")\n",
        "\n",
        "print(f\"Precision for Query 2, {Query_2}, on Cosine Similarity: {3/3} \\n\")\n",
        "print(f\"Precision for Query 2, {Query_2}, on BM25 Similarity: {3/3} \\n\")\n",
        "\n",
        "print(f\"Precision for Query 3, {Query_3}, on Cosine Similarity: {2/3} \\n\")\n",
        "print(f\"Precision for Query 3, {Query_3}, on BM25 Similarity: {3/3} \\n\")"
      ],
      "metadata": {
        "id": "aCwvS9IqtV0L"
      },
      "execution_count": null,
      "outputs": []
    },
    {
      "cell_type": "markdown",
      "source": [
        "## New Section"
      ],
      "metadata": {
        "id": "5r5StWzwVwrb"
      }
    },
    {
      "cell_type": "markdown",
      "source": [
        "# Part 5 -\n",
        "### New Section"
      ],
      "metadata": {
        "id": "0cFrx3QS1VrD"
      }
    }
  ]
}